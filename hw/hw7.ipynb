{
 "cells": [
  {
   "cell_type": "code",
   "execution_count": 1,
   "metadata": {},
   "outputs": [
    {
     "data": {
      "text/plain": [
       "DataTransformerRegistry.enable('json')"
      ]
     },
     "execution_count": 1,
     "metadata": {},
     "output_type": "execute_result"
    }
   ],
   "source": [
    "import pandas as pd\n",
    "import altair as alt\n",
    "import datetime as dt\n",
    "alt.data_transformers.enable('json')"
   ]
  },
  {
   "attachments": {},
   "cell_type": "markdown",
   "metadata": {},
   "source": [
    "# Inputs"
   ]
  },
  {
   "cell_type": "code",
   "execution_count": 2,
   "metadata": {},
   "outputs": [],
   "source": [
    "sos_download_dir='/data2/elilouis/sublimationofsnow/sosnoqc'\n",
    "DATE_FORMAT_STR = '%Y%m%d'\n",
    "\n",
    "# Case study dates\n",
    "start_date1 = '20230210'; end_date1 = '20230212'\n",
    "start_date2 = '20230219'; end_date2 = '20230221'\n",
    "start_date3 = '20230317'; end_date3 = '20230319' \n",
    "\n",
    "def format_date(date):\n",
    "    return dt.datetime.strptime(\n",
    "        date, \n",
    "        DATE_FORMAT_STR\n",
    "    ).strftime(\n",
    "        '%Y-%m-%d'\n",
    "    )\n",
    "\n",
    "start_date1f = format_date(start_date1); end_date1f = format_date(end_date1)\n",
    "start_date2f = format_date(start_date2); end_date2f = format_date(end_date2)\n",
    "start_date3f = format_date(start_date3); end_date3f = format_date(end_date3) "
   ]
  },
  {
   "cell_type": "code",
   "execution_count": 3,
   "metadata": {},
   "outputs": [],
   "source": [
    "df = pd.read_parquet(\n",
    "    '~/sublimationofsnow/analysis/sos/tidy_df_30Min_20221201_20230501_noplanar_fit.parquet'\n",
    ")\n",
    "df['time'] = pd.to_datetime(df['time'])"
   ]
  },
  {
   "cell_type": "code",
   "execution_count": 4,
   "metadata": {},
   "outputs": [
    {
     "name": "stdout",
     "output_type": "stream",
     "text": [
      "-rw-rw-r--. 1 elilouis elilouis 26M May 23 21:41 /home/elilouis/sublimationofsnow/analysis/sos/tidy_df_30Min_20221201_20230501_noplanar_fit.parquet\n"
     ]
    }
   ],
   "source": [
    "ls -lah ~/sublimationofsnow/analysis/sos/tidy_df_30Min_20221201_20230501_noplanar_fit.parquet"
   ]
  },
  {
   "cell_type": "code",
   "execution_count": 11,
   "metadata": {},
   "outputs": [],
   "source": [
    "import sys\n",
    "sys.path.append(\"/home/elilouis/sublimationofsnow/\")\n",
    "import sosutils\n",
    "from sostidy import SOSTidy"
   ]
  },
  {
   "cell_type": "code",
   "execution_count": 12,
   "metadata": {},
   "outputs": [
    {
     "name": "stdout",
     "output_type": "stream",
     "text": [
      "c\n",
      "10.0\n",
      "15.0\n",
      "20.0\n",
      "2.0\n",
      "3.0\n",
      "5.0\n"
     ]
    }
   ],
   "source": [
    "obukhov_src = df.query(\"measurement == 'Obukhov length'\")\n",
    "\n",
    "for tower in obukhov_src['tower'].unique():\n",
    "    print(tower)\n",
    "    for height in obukhov_src['height'].unique():\n",
    "        print(height)\n",
    "        src = obukhov_src.query(\n",
    "                f\"tower == '{tower}'\"\n",
    "            ).query(\n",
    "                f\"height == {height}\"\n",
    "            )\n",
    "        df = SOSTidy.tidy_df_add_variable(\n",
    "            df,\n",
    "            src['height'] / src['value'],\n",
    "            f\"stability_function_{height}m_{tower}\",\n",
    "            \"stability function\",\n",
    "            height,\n",
    "            tower\n",
    "        )"
   ]
  },
  {
   "cell_type": "code",
   "execution_count": 13,
   "metadata": {},
   "outputs": [
    {
     "data": {
      "text/html": [
       "\n",
       "<style>\n",
       "  #altair-viz-45a33e88b1ec4e45a991bb184b38d6fb.vega-embed {\n",
       "    width: 100%;\n",
       "    display: flex;\n",
       "  }\n",
       "\n",
       "  #altair-viz-45a33e88b1ec4e45a991bb184b38d6fb.vega-embed details,\n",
       "  #altair-viz-45a33e88b1ec4e45a991bb184b38d6fb.vega-embed details summary {\n",
       "    position: relative;\n",
       "  }\n",
       "</style>\n",
       "<div id=\"altair-viz-45a33e88b1ec4e45a991bb184b38d6fb\"></div>\n",
       "<script type=\"text/javascript\">\n",
       "  var VEGA_DEBUG = (typeof VEGA_DEBUG == \"undefined\") ? {} : VEGA_DEBUG;\n",
       "  (function(spec, embedOpt){\n",
       "    let outputDiv = document.currentScript.previousElementSibling;\n",
       "    if (outputDiv.id !== \"altair-viz-45a33e88b1ec4e45a991bb184b38d6fb\") {\n",
       "      outputDiv = document.getElementById(\"altair-viz-45a33e88b1ec4e45a991bb184b38d6fb\");\n",
       "    }\n",
       "    const paths = {\n",
       "      \"vega\": \"https://cdn.jsdelivr.net/npm/vega@5?noext\",\n",
       "      \"vega-lib\": \"https://cdn.jsdelivr.net/npm/vega-lib?noext\",\n",
       "      \"vega-lite\": \"https://cdn.jsdelivr.net/npm/vega-lite@5.8.0?noext\",\n",
       "      \"vega-embed\": \"https://cdn.jsdelivr.net/npm/vega-embed@6?noext\",\n",
       "    };\n",
       "\n",
       "    function maybeLoadScript(lib, version) {\n",
       "      var key = `${lib.replace(\"-\", \"\")}_version`;\n",
       "      return (VEGA_DEBUG[key] == version) ?\n",
       "        Promise.resolve(paths[lib]) :\n",
       "        new Promise(function(resolve, reject) {\n",
       "          var s = document.createElement('script');\n",
       "          document.getElementsByTagName(\"head\")[0].appendChild(s);\n",
       "          s.async = true;\n",
       "          s.onload = () => {\n",
       "            VEGA_DEBUG[key] = version;\n",
       "            return resolve(paths[lib]);\n",
       "          };\n",
       "          s.onerror = () => reject(`Error loading script: ${paths[lib]}`);\n",
       "          s.src = paths[lib];\n",
       "        });\n",
       "    }\n",
       "\n",
       "    function showError(err) {\n",
       "      outputDiv.innerHTML = `<div class=\"error\" style=\"color:red;\">${err}</div>`;\n",
       "      throw err;\n",
       "    }\n",
       "\n",
       "    function displayChart(vegaEmbed) {\n",
       "      vegaEmbed(outputDiv, spec, embedOpt)\n",
       "        .catch(err => showError(`Javascript Error: ${err.message}<br>This usually means there's a typo in your chart specification. See the javascript console for the full traceback.`));\n",
       "    }\n",
       "\n",
       "    if(typeof define === \"function\" && define.amd) {\n",
       "      requirejs.config({paths});\n",
       "      require([\"vega-embed\"], displayChart, err => showError(`Error loading script: ${err.message}`));\n",
       "    } else {\n",
       "      maybeLoadScript(\"vega\", \"5\")\n",
       "        .then(() => maybeLoadScript(\"vega-lite\", \"5.8.0\"))\n",
       "        .then(() => maybeLoadScript(\"vega-embed\", \"6\"))\n",
       "        .catch(showError)\n",
       "        .then(() => displayChart(vegaEmbed));\n",
       "    }\n",
       "  })({\"config\": {\"view\": {\"continuousWidth\": 300, \"continuousHeight\": 300}}, \"hconcat\": [{\"data\": {\"url\": \"altair-data-9203e347e5ceddcb5d015ade9c1261d4.json\", \"format\": {\"type\": \"json\"}}, \"mark\": {\"type\": \"boxplot\", \"outliers\": false}, \"encoding\": {\"x\": {\"field\": \"height\", \"type\": \"ordinal\"}, \"y\": {\"field\": \"value\", \"title\": \"Ri\", \"type\": \"quantitative\"}}, \"height\": 200, \"title\": \"Without outliers\", \"width\": 200}, {\"data\": {\"url\": \"altair-data-9203e347e5ceddcb5d015ade9c1261d4.json\", \"format\": {\"type\": \"json\"}}, \"mark\": {\"type\": \"boxplot\", \"outliers\": {\"size\": 1}}, \"encoding\": {\"x\": {\"field\": \"height\", \"type\": \"ordinal\"}, \"y\": {\"field\": \"value\", \"scale\": {\"domain\": [-100, 100], \"clamp\": true}, \"title\": \"Ri\", \"type\": \"quantitative\"}}, \"height\": 200, \"title\": \"With outliers\", \"width\": 200}], \"$schema\": \"https://vega.github.io/schema/vega-lite/v5.8.0.json\"}, {\"mode\": \"vega-lite\"});\n",
       "</script>"
      ],
      "text/plain": [
       "alt.HConcatChart(...)"
      ]
     },
     "execution_count": 13,
     "metadata": {},
     "output_type": "execute_result"
    }
   ],
   "source": [
    "alt.Chart(df.query(\"measurement == 'richardson number'\")).mark_boxplot(outliers=False).encode(\n",
    "    alt.X(\"height:O\"),\n",
    "    alt.Y(\"value:Q\").title('Ri')\n",
    ").properties(width = 200, height = 200, title='Without outliers') | \\\n",
    "alt.Chart(df.query(\"measurement == 'richardson number'\")).mark_boxplot(outliers={'size': 1}).encode(\n",
    "    alt.X(\"height:O\"),\n",
    "    alt.Y(\"value:Q\").title('Ri').scale(domain=[-100,100], clamp=True)\n",
    ").properties(width = 200, height = 200, title='With outliers')"
   ]
  },
  {
   "cell_type": "code",
   "execution_count": 14,
   "metadata": {},
   "outputs": [
    {
     "data": {
      "text/html": [
       "\n",
       "<style>\n",
       "  #altair-viz-8783f4926fad40a3808dd32a6338c0e2.vega-embed {\n",
       "    width: 100%;\n",
       "    display: flex;\n",
       "  }\n",
       "\n",
       "  #altair-viz-8783f4926fad40a3808dd32a6338c0e2.vega-embed details,\n",
       "  #altair-viz-8783f4926fad40a3808dd32a6338c0e2.vega-embed details summary {\n",
       "    position: relative;\n",
       "  }\n",
       "</style>\n",
       "<div id=\"altair-viz-8783f4926fad40a3808dd32a6338c0e2\"></div>\n",
       "<script type=\"text/javascript\">\n",
       "  var VEGA_DEBUG = (typeof VEGA_DEBUG == \"undefined\") ? {} : VEGA_DEBUG;\n",
       "  (function(spec, embedOpt){\n",
       "    let outputDiv = document.currentScript.previousElementSibling;\n",
       "    if (outputDiv.id !== \"altair-viz-8783f4926fad40a3808dd32a6338c0e2\") {\n",
       "      outputDiv = document.getElementById(\"altair-viz-8783f4926fad40a3808dd32a6338c0e2\");\n",
       "    }\n",
       "    const paths = {\n",
       "      \"vega\": \"https://cdn.jsdelivr.net/npm/vega@5?noext\",\n",
       "      \"vega-lib\": \"https://cdn.jsdelivr.net/npm/vega-lib?noext\",\n",
       "      \"vega-lite\": \"https://cdn.jsdelivr.net/npm/vega-lite@5.8.0?noext\",\n",
       "      \"vega-embed\": \"https://cdn.jsdelivr.net/npm/vega-embed@6?noext\",\n",
       "    };\n",
       "\n",
       "    function maybeLoadScript(lib, version) {\n",
       "      var key = `${lib.replace(\"-\", \"\")}_version`;\n",
       "      return (VEGA_DEBUG[key] == version) ?\n",
       "        Promise.resolve(paths[lib]) :\n",
       "        new Promise(function(resolve, reject) {\n",
       "          var s = document.createElement('script');\n",
       "          document.getElementsByTagName(\"head\")[0].appendChild(s);\n",
       "          s.async = true;\n",
       "          s.onload = () => {\n",
       "            VEGA_DEBUG[key] = version;\n",
       "            return resolve(paths[lib]);\n",
       "          };\n",
       "          s.onerror = () => reject(`Error loading script: ${paths[lib]}`);\n",
       "          s.src = paths[lib];\n",
       "        });\n",
       "    }\n",
       "\n",
       "    function showError(err) {\n",
       "      outputDiv.innerHTML = `<div class=\"error\" style=\"color:red;\">${err}</div>`;\n",
       "      throw err;\n",
       "    }\n",
       "\n",
       "    function displayChart(vegaEmbed) {\n",
       "      vegaEmbed(outputDiv, spec, embedOpt)\n",
       "        .catch(err => showError(`Javascript Error: ${err.message}<br>This usually means there's a typo in your chart specification. See the javascript console for the full traceback.`));\n",
       "    }\n",
       "\n",
       "    if(typeof define === \"function\" && define.amd) {\n",
       "      requirejs.config({paths});\n",
       "      require([\"vega-embed\"], displayChart, err => showError(`Error loading script: ${err.message}`));\n",
       "    } else {\n",
       "      maybeLoadScript(\"vega\", \"5\")\n",
       "        .then(() => maybeLoadScript(\"vega-lite\", \"5.8.0\"))\n",
       "        .then(() => maybeLoadScript(\"vega-embed\", \"6\"))\n",
       "        .catch(showError)\n",
       "        .then(() => displayChart(vegaEmbed));\n",
       "    }\n",
       "  })({\"config\": {\"view\": {\"continuousWidth\": 300, \"continuousHeight\": 300}}, \"hconcat\": [{\"data\": {\"url\": \"altair-data-5e5fd776b5f2598a9f9ff676b1e36cac.json\", \"format\": {\"type\": \"json\"}}, \"mark\": {\"type\": \"boxplot\", \"outliers\": false}, \"encoding\": {\"x\": {\"field\": \"height\", \"type\": \"ordinal\"}, \"y\": {\"field\": \"value\", \"title\": \"stability function\", \"type\": \"quantitative\"}}, \"height\": 200, \"title\": \"Without outliers\", \"width\": 200}, {\"data\": {\"url\": \"altair-data-5e5fd776b5f2598a9f9ff676b1e36cac.json\", \"format\": {\"type\": \"json\"}}, \"mark\": {\"type\": \"boxplot\", \"outliers\": {\"size\": 1}}, \"encoding\": {\"x\": {\"field\": \"height\", \"type\": \"ordinal\"}, \"y\": {\"field\": \"value\", \"scale\": {\"domain\": [-100, 100], \"clamp\": true}, \"title\": \"stability function\", \"type\": \"quantitative\"}}, \"height\": 200, \"title\": \"With outliers\", \"width\": 200}], \"$schema\": \"https://vega.github.io/schema/vega-lite/v5.8.0.json\"}, {\"mode\": \"vega-lite\"});\n",
       "</script>"
      ],
      "text/plain": [
       "alt.HConcatChart(...)"
      ]
     },
     "execution_count": 14,
     "metadata": {},
     "output_type": "execute_result"
    }
   ],
   "source": [
    "alt.Chart(df.query(\"measurement == 'stability function'\")).mark_boxplot(outliers=False).encode(\n",
    "    alt.X(\"height:O\"),\n",
    "    alt.Y(\"value:Q\").title('stability function')\n",
    ").properties(width = 200, height = 200, title='Without outliers') | \\\n",
    "alt.Chart(df.query(\"measurement == 'stability function'\")).mark_boxplot(outliers={'size': 1}).encode(\n",
    "    alt.X(\"height:O\"),\n",
    "    alt.Y(\"value:Q\").title('stability function').scale(domain=[-100,100], clamp=True)\n",
    ").properties(width = 200, height = 200, title='With outliers')"
   ]
  },
  {
   "attachments": {},
   "cell_type": "markdown",
   "metadata": {},
   "source": [
    "# Problem 1: Do Stable Atmospheric Conditions Shut Down Turbulence?"
   ]
  },
  {
   "cell_type": "code",
   "execution_count": 15,
   "metadata": {},
   "outputs": [],
   "source": [
    "df1 = df.set_index('time').loc[start_date1:end_date1].reset_index()\n",
    "df2 = df.set_index('time').loc[start_date2:end_date2].reset_index()\n",
    "df3 = df.set_index('time').loc[start_date3:end_date3].reset_index()"
   ]
  },
  {
   "attachments": {},
   "cell_type": "markdown",
   "metadata": {},
   "source": [
    "Pick three different periods of 3-5 days in our dataset.\n",
    "\n",
    "Assess:\n",
    "* stability (temperature profiles), \n",
    "* the winds (wind speed and direction profiles and wind time series), \n",
    "* Richardson number, \n",
    "* the turbulent fluxes (TKE, sensible heat flux, latent heat fluxes) at two or more heights\n",
    "                        \n",
    "How are these related? What are the highest turbulent fluxes you observe during a period considered “strongly stable,” with a Richardson number greater than 0.2? (Hint: Histograms might be helpful here.)\n",
    "\n"
   ]
  },
  {
   "cell_type": "code",
   "execution_count": 16,
   "metadata": {},
   "outputs": [],
   "source": [
    "def profiles_plot(df):\n",
    "    profiles_df = df[df['time'].dt.hour % 4 == 0]\n",
    "    profiles_df = profiles_df[profiles_df['time'].dt.minute == 0]\n",
    "    profiles_df['day'] = profiles_df['time'].dt.day\n",
    "    profiles_df['hour'] = profiles_df['time'].dt.hour\n",
    "\n",
    "    src = profiles_df.query(\"measurement == 'potential virtual temperature'\").query(\"tower == 'c'\")\n",
    "    temp_profile_plot = alt.Chart(src).mark_line().encode(\n",
    "        alt.X(\"value:Q\", sort='-y').title('Pot. Virtual Temp. (˚C)'),\n",
    "        alt.Y(\"height:Q\"),\n",
    "        alt.Facet(\"day:O\", columns=4),\n",
    "        alt.Color(\"hour:O\").scale(scheme='rainbow')\n",
    "    ).properties(width=115, height=60).resolve_scale(x='independent')\n",
    "\n",
    "    src = profiles_df.query(\"measurement == 'wind speed'\").query(\"tower == 'c'\")\n",
    "    wind_profile_plot = alt.Chart(src).mark_line().encode(\n",
    "        alt.X(\"value:Q\", sort='-y').title('Wind speed (m/s)'),\n",
    "        alt.Y(\"height:Q\"),\n",
    "        alt.Facet(\"day:O\", columns=4, title=None).header(labelFontSize=0),\n",
    "        alt.Color(\"hour:O\").scale(scheme='rainbow')\n",
    "    ).properties(width=115, height=60).resolve_scale(x='independent')\n",
    "\n",
    "    src = profiles_df.query(\"measurement == 'wind direction'\").query(\"tower == 'c'\")\n",
    "    winddir_profile_plot = alt.Chart(src).mark_line().encode(\n",
    "        alt.X(\"value:Q\", sort='-y').title('Wind direction (˚)'),\n",
    "        alt.Y(\"height:Q\"),\n",
    "        alt.Facet(\"day:O\", columns=4, title=None).header(labelFontSize=0),\n",
    "        alt.Color(\"hour:O\").scale(scheme='rainbow')\n",
    "    ).properties(width=115, height=60).resolve_scale(x='independent')\n",
    "\n",
    "    return (temp_profile_plot & wind_profile_plot & winddir_profile_plot)"
   ]
  },
  {
   "cell_type": "code",
   "execution_count": 17,
   "metadata": {},
   "outputs": [
    {
     "data": {
      "text/html": [
       "\n",
       "<style>\n",
       "  #altair-viz-975d9860895f4ae184dd9c69a4222b56.vega-embed {\n",
       "    width: 100%;\n",
       "    display: flex;\n",
       "  }\n",
       "\n",
       "  #altair-viz-975d9860895f4ae184dd9c69a4222b56.vega-embed details,\n",
       "  #altair-viz-975d9860895f4ae184dd9c69a4222b56.vega-embed details summary {\n",
       "    position: relative;\n",
       "  }\n",
       "</style>\n",
       "<div id=\"altair-viz-975d9860895f4ae184dd9c69a4222b56\"></div>\n",
       "<script type=\"text/javascript\">\n",
       "  var VEGA_DEBUG = (typeof VEGA_DEBUG == \"undefined\") ? {} : VEGA_DEBUG;\n",
       "  (function(spec, embedOpt){\n",
       "    let outputDiv = document.currentScript.previousElementSibling;\n",
       "    if (outputDiv.id !== \"altair-viz-975d9860895f4ae184dd9c69a4222b56\") {\n",
       "      outputDiv = document.getElementById(\"altair-viz-975d9860895f4ae184dd9c69a4222b56\");\n",
       "    }\n",
       "    const paths = {\n",
       "      \"vega\": \"https://cdn.jsdelivr.net/npm/vega@5?noext\",\n",
       "      \"vega-lib\": \"https://cdn.jsdelivr.net/npm/vega-lib?noext\",\n",
       "      \"vega-lite\": \"https://cdn.jsdelivr.net/npm/vega-lite@5.8.0?noext\",\n",
       "      \"vega-embed\": \"https://cdn.jsdelivr.net/npm/vega-embed@6?noext\",\n",
       "    };\n",
       "\n",
       "    function maybeLoadScript(lib, version) {\n",
       "      var key = `${lib.replace(\"-\", \"\")}_version`;\n",
       "      return (VEGA_DEBUG[key] == version) ?\n",
       "        Promise.resolve(paths[lib]) :\n",
       "        new Promise(function(resolve, reject) {\n",
       "          var s = document.createElement('script');\n",
       "          document.getElementsByTagName(\"head\")[0].appendChild(s);\n",
       "          s.async = true;\n",
       "          s.onload = () => {\n",
       "            VEGA_DEBUG[key] = version;\n",
       "            return resolve(paths[lib]);\n",
       "          };\n",
       "          s.onerror = () => reject(`Error loading script: ${paths[lib]}`);\n",
       "          s.src = paths[lib];\n",
       "        });\n",
       "    }\n",
       "\n",
       "    function showError(err) {\n",
       "      outputDiv.innerHTML = `<div class=\"error\" style=\"color:red;\">${err}</div>`;\n",
       "      throw err;\n",
       "    }\n",
       "\n",
       "    function displayChart(vegaEmbed) {\n",
       "      vegaEmbed(outputDiv, spec, embedOpt)\n",
       "        .catch(err => showError(`Javascript Error: ${err.message}<br>This usually means there's a typo in your chart specification. See the javascript console for the full traceback.`));\n",
       "    }\n",
       "\n",
       "    if(typeof define === \"function\" && define.amd) {\n",
       "      requirejs.config({paths});\n",
       "      require([\"vega-embed\"], displayChart, err => showError(`Error loading script: ${err.message}`));\n",
       "    } else {\n",
       "      maybeLoadScript(\"vega\", \"5\")\n",
       "        .then(() => maybeLoadScript(\"vega-lite\", \"5.8.0\"))\n",
       "        .then(() => maybeLoadScript(\"vega-embed\", \"6\"))\n",
       "        .catch(showError)\n",
       "        .then(() => displayChart(vegaEmbed));\n",
       "    }\n",
       "  })({\"config\": {\"view\": {\"continuousWidth\": 300, \"continuousHeight\": 300}}, \"hconcat\": [{\"vconcat\": [{\"data\": {\"url\": \"altair-data-95a7066910571736bc690e12e142e40e.json\", \"format\": {\"type\": \"json\"}}, \"mark\": {\"type\": \"line\"}, \"encoding\": {\"color\": {\"field\": \"hour\", \"scale\": {\"scheme\": \"rainbow\"}, \"type\": \"ordinal\"}, \"facet\": {\"columns\": 4, \"field\": \"day\", \"type\": \"ordinal\"}, \"x\": {\"field\": \"value\", \"sort\": \"-y\", \"title\": \"Pot. Virtual Temp. (\\u02daC)\", \"type\": \"quantitative\"}, \"y\": {\"field\": \"height\", \"type\": \"quantitative\"}}, \"height\": 60, \"resolve\": {\"scale\": {\"x\": \"independent\"}}, \"width\": 115}, {\"data\": {\"url\": \"altair-data-e86c7e398eb4a4f74d7b81cd21e44a28.json\", \"format\": {\"type\": \"json\"}}, \"mark\": {\"type\": \"line\"}, \"encoding\": {\"color\": {\"field\": \"hour\", \"scale\": {\"scheme\": \"rainbow\"}, \"type\": \"ordinal\"}, \"facet\": {\"columns\": 4, \"field\": \"day\", \"header\": {\"labelFontSize\": 0}, \"title\": null, \"type\": \"ordinal\"}, \"x\": {\"field\": \"value\", \"sort\": \"-y\", \"title\": \"Wind speed (m/s)\", \"type\": \"quantitative\"}, \"y\": {\"field\": \"height\", \"type\": \"quantitative\"}}, \"height\": 60, \"resolve\": {\"scale\": {\"x\": \"independent\"}}, \"width\": 115}, {\"data\": {\"url\": \"altair-data-48f922f3cd9963a4d1a6ce5d23cc4ca5.json\", \"format\": {\"type\": \"json\"}}, \"mark\": {\"type\": \"line\"}, \"encoding\": {\"color\": {\"field\": \"hour\", \"scale\": {\"scheme\": \"rainbow\"}, \"type\": \"ordinal\"}, \"facet\": {\"columns\": 4, \"field\": \"day\", \"header\": {\"labelFontSize\": 0}, \"title\": null, \"type\": \"ordinal\"}, \"x\": {\"field\": \"value\", \"sort\": \"-y\", \"title\": \"Wind direction (\\u02da)\", \"type\": \"quantitative\"}, \"y\": {\"field\": \"height\", \"type\": \"quantitative\"}}, \"height\": 60, \"resolve\": {\"scale\": {\"x\": \"independent\"}}, \"width\": 115}], \"title\": \"2023-02-10 - 2023-02-12\"}, {\"vconcat\": [{\"data\": {\"url\": \"altair-data-0f9921191801d322e9997ed654b07baa.json\", \"format\": {\"type\": \"json\"}}, \"mark\": {\"type\": \"line\"}, \"encoding\": {\"color\": {\"field\": \"hour\", \"scale\": {\"scheme\": \"rainbow\"}, \"type\": \"ordinal\"}, \"facet\": {\"columns\": 4, \"field\": \"day\", \"type\": \"ordinal\"}, \"x\": {\"field\": \"value\", \"sort\": \"-y\", \"title\": \"Pot. Virtual Temp. (\\u02daC)\", \"type\": \"quantitative\"}, \"y\": {\"field\": \"height\", \"type\": \"quantitative\"}}, \"height\": 60, \"resolve\": {\"scale\": {\"x\": \"independent\"}}, \"width\": 115}, {\"data\": {\"url\": \"altair-data-3df0c71a0a6257ec05bbbd988ae5dae2.json\", \"format\": {\"type\": \"json\"}}, \"mark\": {\"type\": \"line\"}, \"encoding\": {\"color\": {\"field\": \"hour\", \"scale\": {\"scheme\": \"rainbow\"}, \"type\": \"ordinal\"}, \"facet\": {\"columns\": 4, \"field\": \"day\", \"header\": {\"labelFontSize\": 0}, \"title\": null, \"type\": \"ordinal\"}, \"x\": {\"field\": \"value\", \"sort\": \"-y\", \"title\": \"Wind speed (m/s)\", \"type\": \"quantitative\"}, \"y\": {\"field\": \"height\", \"type\": \"quantitative\"}}, \"height\": 60, \"resolve\": {\"scale\": {\"x\": \"independent\"}}, \"width\": 115}, {\"data\": {\"url\": \"altair-data-ecc62ab7038f031ea6e8d7e1d60d2cb7.json\", \"format\": {\"type\": \"json\"}}, \"mark\": {\"type\": \"line\"}, \"encoding\": {\"color\": {\"field\": \"hour\", \"scale\": {\"scheme\": \"rainbow\"}, \"type\": \"ordinal\"}, \"facet\": {\"columns\": 4, \"field\": \"day\", \"header\": {\"labelFontSize\": 0}, \"title\": null, \"type\": \"ordinal\"}, \"x\": {\"field\": \"value\", \"sort\": \"-y\", \"title\": \"Wind direction (\\u02da)\", \"type\": \"quantitative\"}, \"y\": {\"field\": \"height\", \"type\": \"quantitative\"}}, \"height\": 60, \"resolve\": {\"scale\": {\"x\": \"independent\"}}, \"width\": 115}], \"title\": \"2023-02-19 - 2023-02-21\"}, {\"vconcat\": [{\"data\": {\"url\": \"altair-data-91872dc9c467abe866b2249fd86f9023.json\", \"format\": {\"type\": \"json\"}}, \"mark\": {\"type\": \"line\"}, \"encoding\": {\"color\": {\"field\": \"hour\", \"scale\": {\"scheme\": \"rainbow\"}, \"type\": \"ordinal\"}, \"facet\": {\"columns\": 4, \"field\": \"day\", \"type\": \"ordinal\"}, \"x\": {\"field\": \"value\", \"sort\": \"-y\", \"title\": \"Pot. Virtual Temp. (\\u02daC)\", \"type\": \"quantitative\"}, \"y\": {\"field\": \"height\", \"type\": \"quantitative\"}}, \"height\": 60, \"resolve\": {\"scale\": {\"x\": \"independent\"}}, \"width\": 115}, {\"data\": {\"url\": \"altair-data-16989f14f0343a2fd8a1ba8671a6bace.json\", \"format\": {\"type\": \"json\"}}, \"mark\": {\"type\": \"line\"}, \"encoding\": {\"color\": {\"field\": \"hour\", \"scale\": {\"scheme\": \"rainbow\"}, \"type\": \"ordinal\"}, \"facet\": {\"columns\": 4, \"field\": \"day\", \"header\": {\"labelFontSize\": 0}, \"title\": null, \"type\": \"ordinal\"}, \"x\": {\"field\": \"value\", \"sort\": \"-y\", \"title\": \"Wind speed (m/s)\", \"type\": \"quantitative\"}, \"y\": {\"field\": \"height\", \"type\": \"quantitative\"}}, \"height\": 60, \"resolve\": {\"scale\": {\"x\": \"independent\"}}, \"width\": 115}, {\"data\": {\"url\": \"altair-data-3398e66db05053369ce5e9548057f0e4.json\", \"format\": {\"type\": \"json\"}}, \"mark\": {\"type\": \"line\"}, \"encoding\": {\"color\": {\"field\": \"hour\", \"scale\": {\"scheme\": \"rainbow\"}, \"type\": \"ordinal\"}, \"facet\": {\"columns\": 4, \"field\": \"day\", \"header\": {\"labelFontSize\": 0}, \"title\": null, \"type\": \"ordinal\"}, \"x\": {\"field\": \"value\", \"sort\": \"-y\", \"title\": \"Wind direction (\\u02da)\", \"type\": \"quantitative\"}, \"y\": {\"field\": \"height\", \"type\": \"quantitative\"}}, \"height\": 60, \"resolve\": {\"scale\": {\"x\": \"independent\"}}, \"width\": 115}], \"title\": \"2023-03-17 - 2023-03-19\"}], \"$schema\": \"https://vega.github.io/schema/vega-lite/v5.8.0.json\"}, {\"mode\": \"vega-lite\"});\n",
       "</script>"
      ],
      "text/plain": [
       "alt.HConcatChart(...)"
      ]
     },
     "execution_count": 17,
     "metadata": {},
     "output_type": "execute_result"
    }
   ],
   "source": [
    "profiles_plot(df1).properties(title=f'{start_date1f} - {end_date1f}') | profiles_plot(df2).properties(title=f'{start_date2f} - {end_date2f}') | profiles_plot(df3).properties(title=f'{start_date3f} - {end_date3f}')"
   ]
  },
  {
   "attachments": {},
   "cell_type": "markdown",
   "metadata": {},
   "source": [
    "# Plot time series"
   ]
  },
  {
   "cell_type": "code",
   "execution_count": 18,
   "metadata": {},
   "outputs": [],
   "source": [
    "def time_series_plot(src):\n",
    "    wind_chart = alt.Chart(src).transform_filter(\n",
    "        alt.datum.tower == 'c'\n",
    "    ).transform_filter(\n",
    "        alt.FieldOneOfPredicate('measurement', ['wind speed'])\n",
    "    ).mark_line().transform_window(\n",
    "        rolling_mean='median(value)',\n",
    "        frame=[-3, 3],\n",
    "        groupby=['variable']\n",
    "    ).encode(\n",
    "            alt.X('time:T').title(None).axis(labels=False),\n",
    "            alt.Y(\"rolling_mean:Q\", title='Wind speed (m/s)').scale(domain=[0, 8]),\n",
    "            alt.Color(\"height:O\", scale=alt.Scale(scheme='rainbow'))\n",
    "    ).properties(width=200, height=75)\n",
    "\n",
    "    tke_chart = alt.Chart(src).transform_filter(\n",
    "        alt.datum.tower == 'c'\n",
    "    ).transform_filter(\n",
    "        alt.FieldOneOfPredicate('measurement', ['turbulent kinetic energy'])\n",
    "    ).mark_line().transform_window(\n",
    "        rolling_mean='median(value)',\n",
    "        frame=[-3, 3],\n",
    "        groupby=['variable']\n",
    "    ).encode(\n",
    "            alt.X('time:T').title(None).axis(labels=False),\n",
    "            alt.Y(\"rolling_mean:Q\", title='TKE (m²/s²)').scale(domain=[0,8]),\n",
    "            alt.Color(\"height:O\", scale=alt.Scale(scheme='rainbow'))\n",
    "    ).properties(width=200, height=75)\n",
    "\n",
    "    ri_chart = alt.Chart(src).transform_filter(\n",
    "        alt.datum.tower == 'c'\n",
    "    ).transform_filter(\n",
    "        alt.FieldOneOfPredicate('measurement', ['richardson number'])\n",
    "    ).mark_line().encode(\n",
    "            alt.X('time:T').title(None).axis(labels=False),\n",
    "            alt.Y(\"value:Q\", title='Ri').scale(domain=[-5, 5], clamp=True),\n",
    "            alt.Color(\"height:O\", scale=alt.Scale(scheme='rainbow'))\n",
    "    ).properties(width=200, height=75)\n",
    "\n",
    "    ri_bulk_chart = alt.Chart(src).transform_filter(\n",
    "        alt.datum.tower == 'c'\n",
    "    ).transform_filter(\n",
    "        alt.FieldOneOfPredicate('variable', ['Ri_3m_c', 'RiB_3m_c'])\n",
    "    ).mark_line().encode(\n",
    "            alt.X('time:T').title(None).axis(labels=False),\n",
    "            alt.Y(\"value:Q\", title='Ri').scale(domain=[-5, 5], clamp=True),\n",
    "            alt.StrokeDash(\"variable:O\")\n",
    "    ).properties(width=200, height=75)\n",
    "\n",
    "\n",
    "\n",
    "    stability_chart = alt.Chart(src).transform_filter(\n",
    "        alt.datum.tower == 'c'\n",
    "    ).transform_filter(\n",
    "        alt.FieldOneOfPredicate('measurement', ['stability function'])\n",
    "    ).mark_line().encode(\n",
    "            alt.X('time:T').title(None).axis(labels=False),\n",
    "            alt.Y(\"value:Q\", title='stability function').scale(domain=[-10, 10], clamp=True),\n",
    "            alt.Color(\"height:O\", scale=alt.Scale(scheme='rainbow'))\n",
    "    ).properties(width=200, height=75)\n",
    "\n",
    "    flux_chart = alt.Chart(src).transform_filter(\n",
    "        alt.FieldOneOfPredicate('tower', ['c'])\n",
    "    ).mark_line().transform_window(\n",
    "        rolling_mean='median(value)',\n",
    "        frame=[-3, 3],\n",
    "        groupby=['variable']\n",
    "    ).encode(\n",
    "        alt.Color(\"height:O\", scale=alt.Scale(scheme='rainbow'))\n",
    "    ).properties(width=200, height=75)\n",
    "\n",
    "    lh_flux_chart = flux_chart.transform_filter(\n",
    "            alt.FieldOneOfPredicate('measurement', ['w_h2o_'])\n",
    "        ).encode(\n",
    "            alt.X('time:T').title(None).axis(labels=False),\n",
    "            alt.Y(\"rolling_mean:Q\", title='LH Flux (g/m²)').scale(domain=[-0.02, 0.02])\n",
    "        ) \n",
    "    \n",
    "    sh_flux_chart = flux_chart.transform_filter(\n",
    "            alt.FieldOneOfPredicate('measurement', ['w_tc_'])\n",
    "        ).encode(\n",
    "            alt.X('time:T'),\n",
    "            alt.Y(\"rolling_mean:Q\", title='SH Flux (˚C * m/s)').scale(domain=[-0.06, 0.06])\n",
    "        )\n",
    "\n",
    "\n",
    "    return (wind_chart & tke_chart & ri_chart & ri_bulk_chart & lh_flux_chart & sh_flux_chart).resolve_scale(x='shared', strokeDash='independent')"
   ]
  },
  {
   "cell_type": "code",
   "execution_count": 19,
   "metadata": {},
   "outputs": [
    {
     "data": {
      "text/html": [
       "\n",
       "<style>\n",
       "  #altair-viz-0e7bcde08e9a4b768e9a530ad4d39a71.vega-embed {\n",
       "    width: 100%;\n",
       "    display: flex;\n",
       "  }\n",
       "\n",
       "  #altair-viz-0e7bcde08e9a4b768e9a530ad4d39a71.vega-embed details,\n",
       "  #altair-viz-0e7bcde08e9a4b768e9a530ad4d39a71.vega-embed details summary {\n",
       "    position: relative;\n",
       "  }\n",
       "</style>\n",
       "<div id=\"altair-viz-0e7bcde08e9a4b768e9a530ad4d39a71\"></div>\n",
       "<script type=\"text/javascript\">\n",
       "  var VEGA_DEBUG = (typeof VEGA_DEBUG == \"undefined\") ? {} : VEGA_DEBUG;\n",
       "  (function(spec, embedOpt){\n",
       "    let outputDiv = document.currentScript.previousElementSibling;\n",
       "    if (outputDiv.id !== \"altair-viz-0e7bcde08e9a4b768e9a530ad4d39a71\") {\n",
       "      outputDiv = document.getElementById(\"altair-viz-0e7bcde08e9a4b768e9a530ad4d39a71\");\n",
       "    }\n",
       "    const paths = {\n",
       "      \"vega\": \"https://cdn.jsdelivr.net/npm/vega@5?noext\",\n",
       "      \"vega-lib\": \"https://cdn.jsdelivr.net/npm/vega-lib?noext\",\n",
       "      \"vega-lite\": \"https://cdn.jsdelivr.net/npm/vega-lite@5.8.0?noext\",\n",
       "      \"vega-embed\": \"https://cdn.jsdelivr.net/npm/vega-embed@6?noext\",\n",
       "    };\n",
       "\n",
       "    function maybeLoadScript(lib, version) {\n",
       "      var key = `${lib.replace(\"-\", \"\")}_version`;\n",
       "      return (VEGA_DEBUG[key] == version) ?\n",
       "        Promise.resolve(paths[lib]) :\n",
       "        new Promise(function(resolve, reject) {\n",
       "          var s = document.createElement('script');\n",
       "          document.getElementsByTagName(\"head\")[0].appendChild(s);\n",
       "          s.async = true;\n",
       "          s.onload = () => {\n",
       "            VEGA_DEBUG[key] = version;\n",
       "            return resolve(paths[lib]);\n",
       "          };\n",
       "          s.onerror = () => reject(`Error loading script: ${paths[lib]}`);\n",
       "          s.src = paths[lib];\n",
       "        });\n",
       "    }\n",
       "\n",
       "    function showError(err) {\n",
       "      outputDiv.innerHTML = `<div class=\"error\" style=\"color:red;\">${err}</div>`;\n",
       "      throw err;\n",
       "    }\n",
       "\n",
       "    function displayChart(vegaEmbed) {\n",
       "      vegaEmbed(outputDiv, spec, embedOpt)\n",
       "        .catch(err => showError(`Javascript Error: ${err.message}<br>This usually means there's a typo in your chart specification. See the javascript console for the full traceback.`));\n",
       "    }\n",
       "\n",
       "    if(typeof define === \"function\" && define.amd) {\n",
       "      requirejs.config({paths});\n",
       "      require([\"vega-embed\"], displayChart, err => showError(`Error loading script: ${err.message}`));\n",
       "    } else {\n",
       "      maybeLoadScript(\"vega\", \"5\")\n",
       "        .then(() => maybeLoadScript(\"vega-lite\", \"5.8.0\"))\n",
       "        .then(() => maybeLoadScript(\"vega-embed\", \"6\"))\n",
       "        .catch(showError)\n",
       "        .then(() => displayChart(vegaEmbed));\n",
       "    }\n",
       "  })({\"config\": {\"view\": {\"continuousWidth\": 300, \"continuousHeight\": 300}}, \"hconcat\": [{\"vconcat\": [{\"mark\": {\"type\": \"line\"}, \"encoding\": {\"color\": {\"field\": \"height\", \"scale\": {\"scheme\": \"rainbow\"}, \"type\": \"ordinal\"}, \"x\": {\"axis\": {\"labels\": false}, \"field\": \"time\", \"title\": null, \"type\": \"temporal\"}, \"y\": {\"field\": \"rolling_mean\", \"scale\": {\"domain\": [0, 8]}, \"title\": \"Wind speed (m/s)\", \"type\": \"quantitative\"}}, \"height\": 75, \"transform\": [{\"filter\": \"(datum.tower === 'c')\"}, {\"filter\": {\"field\": \"measurement\", \"oneOf\": [\"wind speed\"]}}, {\"window\": [{\"op\": \"median\", \"field\": \"value\", \"as\": \"rolling_mean\"}], \"frame\": [-3, 3], \"groupby\": [\"variable\"]}], \"width\": 200}, {\"mark\": {\"type\": \"line\"}, \"encoding\": {\"color\": {\"field\": \"height\", \"scale\": {\"scheme\": \"rainbow\"}, \"type\": \"ordinal\"}, \"x\": {\"axis\": {\"labels\": false}, \"field\": \"time\", \"title\": null, \"type\": \"temporal\"}, \"y\": {\"field\": \"rolling_mean\", \"scale\": {\"domain\": [0, 8]}, \"title\": \"TKE (m\\u00b2/s\\u00b2)\", \"type\": \"quantitative\"}}, \"height\": 75, \"transform\": [{\"filter\": \"(datum.tower === 'c')\"}, {\"filter\": {\"field\": \"measurement\", \"oneOf\": [\"turbulent kinetic energy\"]}}, {\"window\": [{\"op\": \"median\", \"field\": \"value\", \"as\": \"rolling_mean\"}], \"frame\": [-3, 3], \"groupby\": [\"variable\"]}], \"width\": 200}, {\"mark\": {\"type\": \"line\"}, \"encoding\": {\"color\": {\"field\": \"height\", \"scale\": {\"scheme\": \"rainbow\"}, \"type\": \"ordinal\"}, \"x\": {\"axis\": {\"labels\": false}, \"field\": \"time\", \"title\": null, \"type\": \"temporal\"}, \"y\": {\"field\": \"value\", \"scale\": {\"domain\": [-5, 5], \"clamp\": true}, \"title\": \"Ri\", \"type\": \"quantitative\"}}, \"height\": 75, \"transform\": [{\"filter\": \"(datum.tower === 'c')\"}, {\"filter\": {\"field\": \"measurement\", \"oneOf\": [\"richardson number\"]}}], \"width\": 200}, {\"mark\": {\"type\": \"line\"}, \"encoding\": {\"strokeDash\": {\"field\": \"variable\", \"type\": \"ordinal\"}, \"x\": {\"axis\": {\"labels\": false}, \"field\": \"time\", \"title\": null, \"type\": \"temporal\"}, \"y\": {\"field\": \"value\", \"scale\": {\"domain\": [-5, 5], \"clamp\": true}, \"title\": \"Ri\", \"type\": \"quantitative\"}}, \"height\": 75, \"transform\": [{\"filter\": \"(datum.tower === 'c')\"}, {\"filter\": {\"field\": \"variable\", \"oneOf\": [\"Ri_3m_c\", \"RiB_3m_c\"]}}], \"width\": 200}, {\"mark\": {\"type\": \"line\"}, \"encoding\": {\"color\": {\"field\": \"height\", \"scale\": {\"scheme\": \"rainbow\"}, \"type\": \"ordinal\"}, \"x\": {\"axis\": {\"labels\": false}, \"field\": \"time\", \"title\": null, \"type\": \"temporal\"}, \"y\": {\"field\": \"rolling_mean\", \"scale\": {\"domain\": [-0.02, 0.02]}, \"title\": \"LH Flux (g/m\\u00b2)\", \"type\": \"quantitative\"}}, \"height\": 75, \"transform\": [{\"filter\": {\"field\": \"tower\", \"oneOf\": [\"c\"]}}, {\"window\": [{\"op\": \"median\", \"field\": \"value\", \"as\": \"rolling_mean\"}], \"frame\": [-3, 3], \"groupby\": [\"variable\"]}, {\"filter\": {\"field\": \"measurement\", \"oneOf\": [\"w_h2o_\"]}}], \"width\": 200}, {\"mark\": {\"type\": \"line\"}, \"encoding\": {\"color\": {\"field\": \"height\", \"scale\": {\"scheme\": \"rainbow\"}, \"type\": \"ordinal\"}, \"x\": {\"field\": \"time\", \"type\": \"temporal\"}, \"y\": {\"field\": \"rolling_mean\", \"scale\": {\"domain\": [-0.06, 0.06]}, \"title\": \"SH Flux (\\u02daC * m/s)\", \"type\": \"quantitative\"}}, \"height\": 75, \"transform\": [{\"filter\": {\"field\": \"tower\", \"oneOf\": [\"c\"]}}, {\"window\": [{\"op\": \"median\", \"field\": \"value\", \"as\": \"rolling_mean\"}], \"frame\": [-3, 3], \"groupby\": [\"variable\"]}, {\"filter\": {\"field\": \"measurement\", \"oneOf\": [\"w_tc_\"]}}], \"width\": 200}], \"data\": {\"url\": \"altair-data-e191824cc3eae601d5d03e5a3aca17c7.json\", \"format\": {\"type\": \"json\"}}, \"resolve\": {\"scale\": {\"strokeDash\": \"independent\", \"x\": \"shared\"}}, \"title\": \"2023-02-10 - 2023-02-12\"}, {\"vconcat\": [{\"mark\": {\"type\": \"line\"}, \"encoding\": {\"color\": {\"field\": \"height\", \"scale\": {\"scheme\": \"rainbow\"}, \"type\": \"ordinal\"}, \"x\": {\"axis\": {\"labels\": false}, \"field\": \"time\", \"title\": null, \"type\": \"temporal\"}, \"y\": {\"field\": \"rolling_mean\", \"scale\": {\"domain\": [0, 8]}, \"title\": \"Wind speed (m/s)\", \"type\": \"quantitative\"}}, \"height\": 75, \"transform\": [{\"filter\": \"(datum.tower === 'c')\"}, {\"filter\": {\"field\": \"measurement\", \"oneOf\": [\"wind speed\"]}}, {\"window\": [{\"op\": \"median\", \"field\": \"value\", \"as\": \"rolling_mean\"}], \"frame\": [-3, 3], \"groupby\": [\"variable\"]}], \"width\": 200}, {\"mark\": {\"type\": \"line\"}, \"encoding\": {\"color\": {\"field\": \"height\", \"scale\": {\"scheme\": \"rainbow\"}, \"type\": \"ordinal\"}, \"x\": {\"axis\": {\"labels\": false}, \"field\": \"time\", \"title\": null, \"type\": \"temporal\"}, \"y\": {\"field\": \"rolling_mean\", \"scale\": {\"domain\": [0, 8]}, \"title\": \"TKE (m\\u00b2/s\\u00b2)\", \"type\": \"quantitative\"}}, \"height\": 75, \"transform\": [{\"filter\": \"(datum.tower === 'c')\"}, {\"filter\": {\"field\": \"measurement\", \"oneOf\": [\"turbulent kinetic energy\"]}}, {\"window\": [{\"op\": \"median\", \"field\": \"value\", \"as\": \"rolling_mean\"}], \"frame\": [-3, 3], \"groupby\": [\"variable\"]}], \"width\": 200}, {\"mark\": {\"type\": \"line\"}, \"encoding\": {\"color\": {\"field\": \"height\", \"scale\": {\"scheme\": \"rainbow\"}, \"type\": \"ordinal\"}, \"x\": {\"axis\": {\"labels\": false}, \"field\": \"time\", \"title\": null, \"type\": \"temporal\"}, \"y\": {\"field\": \"value\", \"scale\": {\"domain\": [-5, 5], \"clamp\": true}, \"title\": \"Ri\", \"type\": \"quantitative\"}}, \"height\": 75, \"transform\": [{\"filter\": \"(datum.tower === 'c')\"}, {\"filter\": {\"field\": \"measurement\", \"oneOf\": [\"richardson number\"]}}], \"width\": 200}, {\"mark\": {\"type\": \"line\"}, \"encoding\": {\"strokeDash\": {\"field\": \"variable\", \"type\": \"ordinal\"}, \"x\": {\"axis\": {\"labels\": false}, \"field\": \"time\", \"title\": null, \"type\": \"temporal\"}, \"y\": {\"field\": \"value\", \"scale\": {\"domain\": [-5, 5], \"clamp\": true}, \"title\": \"Ri\", \"type\": \"quantitative\"}}, \"height\": 75, \"transform\": [{\"filter\": \"(datum.tower === 'c')\"}, {\"filter\": {\"field\": \"variable\", \"oneOf\": [\"Ri_3m_c\", \"RiB_3m_c\"]}}], \"width\": 200}, {\"mark\": {\"type\": \"line\"}, \"encoding\": {\"color\": {\"field\": \"height\", \"scale\": {\"scheme\": \"rainbow\"}, \"type\": \"ordinal\"}, \"x\": {\"axis\": {\"labels\": false}, \"field\": \"time\", \"title\": null, \"type\": \"temporal\"}, \"y\": {\"field\": \"rolling_mean\", \"scale\": {\"domain\": [-0.02, 0.02]}, \"title\": \"LH Flux (g/m\\u00b2)\", \"type\": \"quantitative\"}}, \"height\": 75, \"transform\": [{\"filter\": {\"field\": \"tower\", \"oneOf\": [\"c\"]}}, {\"window\": [{\"op\": \"median\", \"field\": \"value\", \"as\": \"rolling_mean\"}], \"frame\": [-3, 3], \"groupby\": [\"variable\"]}, {\"filter\": {\"field\": \"measurement\", \"oneOf\": [\"w_h2o_\"]}}], \"width\": 200}, {\"mark\": {\"type\": \"line\"}, \"encoding\": {\"color\": {\"field\": \"height\", \"scale\": {\"scheme\": \"rainbow\"}, \"type\": \"ordinal\"}, \"x\": {\"field\": \"time\", \"type\": \"temporal\"}, \"y\": {\"field\": \"rolling_mean\", \"scale\": {\"domain\": [-0.06, 0.06]}, \"title\": \"SH Flux (\\u02daC * m/s)\", \"type\": \"quantitative\"}}, \"height\": 75, \"transform\": [{\"filter\": {\"field\": \"tower\", \"oneOf\": [\"c\"]}}, {\"window\": [{\"op\": \"median\", \"field\": \"value\", \"as\": \"rolling_mean\"}], \"frame\": [-3, 3], \"groupby\": [\"variable\"]}, {\"filter\": {\"field\": \"measurement\", \"oneOf\": [\"w_tc_\"]}}], \"width\": 200}], \"data\": {\"url\": \"altair-data-882ed446ec9d15556f92eb0d88bddeec.json\", \"format\": {\"type\": \"json\"}}, \"resolve\": {\"scale\": {\"strokeDash\": \"independent\", \"x\": \"shared\"}}, \"title\": \"2023-02-19 - 2023-02-21\"}, {\"vconcat\": [{\"mark\": {\"type\": \"line\"}, \"encoding\": {\"color\": {\"field\": \"height\", \"scale\": {\"scheme\": \"rainbow\"}, \"type\": \"ordinal\"}, \"x\": {\"axis\": {\"labels\": false}, \"field\": \"time\", \"title\": null, \"type\": \"temporal\"}, \"y\": {\"field\": \"rolling_mean\", \"scale\": {\"domain\": [0, 8]}, \"title\": \"Wind speed (m/s)\", \"type\": \"quantitative\"}}, \"height\": 75, \"transform\": [{\"filter\": \"(datum.tower === 'c')\"}, {\"filter\": {\"field\": \"measurement\", \"oneOf\": [\"wind speed\"]}}, {\"window\": [{\"op\": \"median\", \"field\": \"value\", \"as\": \"rolling_mean\"}], \"frame\": [-3, 3], \"groupby\": [\"variable\"]}], \"width\": 200}, {\"mark\": {\"type\": \"line\"}, \"encoding\": {\"color\": {\"field\": \"height\", \"scale\": {\"scheme\": \"rainbow\"}, \"type\": \"ordinal\"}, \"x\": {\"axis\": {\"labels\": false}, \"field\": \"time\", \"title\": null, \"type\": \"temporal\"}, \"y\": {\"field\": \"rolling_mean\", \"scale\": {\"domain\": [0, 8]}, \"title\": \"TKE (m\\u00b2/s\\u00b2)\", \"type\": \"quantitative\"}}, \"height\": 75, \"transform\": [{\"filter\": \"(datum.tower === 'c')\"}, {\"filter\": {\"field\": \"measurement\", \"oneOf\": [\"turbulent kinetic energy\"]}}, {\"window\": [{\"op\": \"median\", \"field\": \"value\", \"as\": \"rolling_mean\"}], \"frame\": [-3, 3], \"groupby\": [\"variable\"]}], \"width\": 200}, {\"mark\": {\"type\": \"line\"}, \"encoding\": {\"color\": {\"field\": \"height\", \"scale\": {\"scheme\": \"rainbow\"}, \"type\": \"ordinal\"}, \"x\": {\"axis\": {\"labels\": false}, \"field\": \"time\", \"title\": null, \"type\": \"temporal\"}, \"y\": {\"field\": \"value\", \"scale\": {\"domain\": [-5, 5], \"clamp\": true}, \"title\": \"Ri\", \"type\": \"quantitative\"}}, \"height\": 75, \"transform\": [{\"filter\": \"(datum.tower === 'c')\"}, {\"filter\": {\"field\": \"measurement\", \"oneOf\": [\"richardson number\"]}}], \"width\": 200}, {\"mark\": {\"type\": \"line\"}, \"encoding\": {\"strokeDash\": {\"field\": \"variable\", \"type\": \"ordinal\"}, \"x\": {\"axis\": {\"labels\": false}, \"field\": \"time\", \"title\": null, \"type\": \"temporal\"}, \"y\": {\"field\": \"value\", \"scale\": {\"domain\": [-5, 5], \"clamp\": true}, \"title\": \"Ri\", \"type\": \"quantitative\"}}, \"height\": 75, \"transform\": [{\"filter\": \"(datum.tower === 'c')\"}, {\"filter\": {\"field\": \"variable\", \"oneOf\": [\"Ri_3m_c\", \"RiB_3m_c\"]}}], \"width\": 200}, {\"mark\": {\"type\": \"line\"}, \"encoding\": {\"color\": {\"field\": \"height\", \"scale\": {\"scheme\": \"rainbow\"}, \"type\": \"ordinal\"}, \"x\": {\"axis\": {\"labels\": false}, \"field\": \"time\", \"title\": null, \"type\": \"temporal\"}, \"y\": {\"field\": \"rolling_mean\", \"scale\": {\"domain\": [-0.02, 0.02]}, \"title\": \"LH Flux (g/m\\u00b2)\", \"type\": \"quantitative\"}}, \"height\": 75, \"transform\": [{\"filter\": {\"field\": \"tower\", \"oneOf\": [\"c\"]}}, {\"window\": [{\"op\": \"median\", \"field\": \"value\", \"as\": \"rolling_mean\"}], \"frame\": [-3, 3], \"groupby\": [\"variable\"]}, {\"filter\": {\"field\": \"measurement\", \"oneOf\": [\"w_h2o_\"]}}], \"width\": 200}, {\"mark\": {\"type\": \"line\"}, \"encoding\": {\"color\": {\"field\": \"height\", \"scale\": {\"scheme\": \"rainbow\"}, \"type\": \"ordinal\"}, \"x\": {\"field\": \"time\", \"type\": \"temporal\"}, \"y\": {\"field\": \"rolling_mean\", \"scale\": {\"domain\": [-0.06, 0.06]}, \"title\": \"SH Flux (\\u02daC * m/s)\", \"type\": \"quantitative\"}}, \"height\": 75, \"transform\": [{\"filter\": {\"field\": \"tower\", \"oneOf\": [\"c\"]}}, {\"window\": [{\"op\": \"median\", \"field\": \"value\", \"as\": \"rolling_mean\"}], \"frame\": [-3, 3], \"groupby\": [\"variable\"]}, {\"filter\": {\"field\": \"measurement\", \"oneOf\": [\"w_tc_\"]}}], \"width\": 200}], \"data\": {\"url\": \"altair-data-f5814c107c48b22891ff9086df685cd9.json\", \"format\": {\"type\": \"json\"}}, \"resolve\": {\"scale\": {\"strokeDash\": \"independent\", \"x\": \"shared\"}}, \"title\": \"2023-03-17 - 2023-03-19\"}], \"$schema\": \"https://vega.github.io/schema/vega-lite/v5.8.0.json\"}, {\"mode\": \"vega-lite\"});\n",
       "</script>"
      ],
      "text/plain": [
       "alt.HConcatChart(...)"
      ]
     },
     "execution_count": 19,
     "metadata": {},
     "output_type": "execute_result"
    }
   ],
   "source": [
    "time_series_plot(df1).properties(title=f'{start_date1f} - {end_date1f}') | time_series_plot(df2).properties(title=f'{start_date2f} - {end_date2f}') | time_series_plot(df3).properties(title=f'{start_date3f} - {end_date3f}')"
   ]
  },
  {
   "cell_type": "code",
   "execution_count": null,
   "metadata": {},
   "outputs": [],
   "source": [
    "rule = alt.Chart().mark_rule().encode(x=alt.datum(0.2))\n",
    "\n",
    "def scatterplots(src):\n",
    "    wide_df = src[src['variable'].isin(['Ri_3m_c', 'w_h2o__3m_c', 'w_tc__3m_c'])][\n",
    "        ['variable', 'value', 'time']\n",
    "    ].reset_index(drop=True).pivot(\n",
    "        values=['value'], \n",
    "        columns='variable', \n",
    "        index='time'\n",
    "    )\n",
    "\n",
    "    wide_df.columns = ['Ri_3m_c', 'w_h2o__3m_c', 'w_tc__3m_c']\n",
    "    wide_df = wide_df.reset_index()\n",
    "    xscale = alt.Scale(domain = [-2, 4], clamp=True)\n",
    "    yscale = alt.Scale(domain = [-.01, .01], clamp=True)\n",
    "\n",
    "    base = alt.Chart(wide_df)\n",
    "    points = base.mark_circle(size=10).encode(\n",
    "        alt.X('Ri_3m_c').scale(xscale),\n",
    "        alt.Y('w_h2o__3m_c').scale(yscale)\n",
    "    ).properties(width=150, height=150)\n",
    "\n",
    "    top_hist = base.mark_bar().encode(\n",
    "        alt.X(\"Ri_3m_c\")\n",
    "        .bin(maxbins=30, extent=xscale.domain).scale(clamp=True)\n",
    "        .title(None)\n",
    "        .axis(labels=False),\n",
    "        alt.Y('count()').title(None)\n",
    "        \n",
    "    ).properties(width=150, height=30)\n",
    "\n",
    "    right_hist = base.mark_bar().encode(\n",
    "        alt.Y(\"w_h2o__3m_c\")\n",
    "        .bin(maxbins=30, extent=yscale.domain)\n",
    "        .title(None)\n",
    "        .axis(labels=False),\n",
    "        alt.X('count()').title(None)\n",
    "    ).properties(width=30, height = 150)\n",
    "\n",
    "    w_h2o_vs_ri_plot = top_hist & (points + rule | right_hist)\n",
    "    \n",
    "\n",
    "    xscale = alt.Scale(domain = [-2, 4], clamp=True)\n",
    "    yscale = alt.Scale(domain = [-.05, .05], clamp=True)\n",
    "\n",
    "    base = alt.Chart(wide_df)\n",
    "    points = base.mark_circle(size=10).encode(\n",
    "        alt.X('Ri_3m_c').scale(xscale),\n",
    "        alt.Y('w_tc__3m_c').scale(yscale)\n",
    "    ).properties(width=150, height=150)\n",
    "\n",
    "    top_hist = base.mark_bar().encode(\n",
    "        alt.X(\"Ri_3m_c\")\n",
    "        .bin(maxbins=30, extent=xscale.domain).scale(clamp=True)\n",
    "        .title(None)\n",
    "        .axis(labels=False),\n",
    "        alt.Y('count()').title(None)\n",
    "        \n",
    "    ).properties(width=150, height=30)\n",
    "\n",
    "    right_hist = base.mark_bar().encode(\n",
    "        alt.Y(\"w_tc__3m_c\")\n",
    "        .bin(maxbins=30, extent=yscale.domain)\n",
    "        .title(None)\n",
    "        .axis(labels=False),\n",
    "        alt.X('count()').title(None)\n",
    "    ).properties(width=30, height = 150)\n",
    "\n",
    "    \n",
    "\n",
    "    w_tc_vs_ri_plot = (points + rule | right_hist)\n",
    "\n",
    "    return (w_h2o_vs_ri_plot & w_tc_vs_ri_plot)"
   ]
  },
  {
   "cell_type": "code",
   "execution_count": null,
   "metadata": {},
   "outputs": [
    {
     "data": {
      "text/html": [
       "\n",
       "<style>\n",
       "  #altair-viz-62683dcd4dbe42dd989265f19c06a547.vega-embed {\n",
       "    width: 100%;\n",
       "    display: flex;\n",
       "  }\n",
       "\n",
       "  #altair-viz-62683dcd4dbe42dd989265f19c06a547.vega-embed details,\n",
       "  #altair-viz-62683dcd4dbe42dd989265f19c06a547.vega-embed details summary {\n",
       "    position: relative;\n",
       "  }\n",
       "</style>\n",
       "<div id=\"altair-viz-62683dcd4dbe42dd989265f19c06a547\"></div>\n",
       "<script type=\"text/javascript\">\n",
       "  var VEGA_DEBUG = (typeof VEGA_DEBUG == \"undefined\") ? {} : VEGA_DEBUG;\n",
       "  (function(spec, embedOpt){\n",
       "    let outputDiv = document.currentScript.previousElementSibling;\n",
       "    if (outputDiv.id !== \"altair-viz-62683dcd4dbe42dd989265f19c06a547\") {\n",
       "      outputDiv = document.getElementById(\"altair-viz-62683dcd4dbe42dd989265f19c06a547\");\n",
       "    }\n",
       "    const paths = {\n",
       "      \"vega\": \"https://cdn.jsdelivr.net/npm/vega@5?noext\",\n",
       "      \"vega-lib\": \"https://cdn.jsdelivr.net/npm/vega-lib?noext\",\n",
       "      \"vega-lite\": \"https://cdn.jsdelivr.net/npm/vega-lite@5.8.0?noext\",\n",
       "      \"vega-embed\": \"https://cdn.jsdelivr.net/npm/vega-embed@6?noext\",\n",
       "    };\n",
       "\n",
       "    function maybeLoadScript(lib, version) {\n",
       "      var key = `${lib.replace(\"-\", \"\")}_version`;\n",
       "      return (VEGA_DEBUG[key] == version) ?\n",
       "        Promise.resolve(paths[lib]) :\n",
       "        new Promise(function(resolve, reject) {\n",
       "          var s = document.createElement('script');\n",
       "          document.getElementsByTagName(\"head\")[0].appendChild(s);\n",
       "          s.async = true;\n",
       "          s.onload = () => {\n",
       "            VEGA_DEBUG[key] = version;\n",
       "            return resolve(paths[lib]);\n",
       "          };\n",
       "          s.onerror = () => reject(`Error loading script: ${paths[lib]}`);\n",
       "          s.src = paths[lib];\n",
       "        });\n",
       "    }\n",
       "\n",
       "    function showError(err) {\n",
       "      outputDiv.innerHTML = `<div class=\"error\" style=\"color:red;\">${err}</div>`;\n",
       "      throw err;\n",
       "    }\n",
       "\n",
       "    function displayChart(vegaEmbed) {\n",
       "      vegaEmbed(outputDiv, spec, embedOpt)\n",
       "        .catch(err => showError(`Javascript Error: ${err.message}<br>This usually means there's a typo in your chart specification. See the javascript console for the full traceback.`));\n",
       "    }\n",
       "\n",
       "    if(typeof define === \"function\" && define.amd) {\n",
       "      requirejs.config({paths});\n",
       "      require([\"vega-embed\"], displayChart, err => showError(`Error loading script: ${err.message}`));\n",
       "    } else {\n",
       "      maybeLoadScript(\"vega\", \"5\")\n",
       "        .then(() => maybeLoadScript(\"vega-lite\", \"5.8.0\"))\n",
       "        .then(() => maybeLoadScript(\"vega-embed\", \"6\"))\n",
       "        .catch(showError)\n",
       "        .then(() => displayChart(vegaEmbed));\n",
       "    }\n",
       "  })({\"config\": {\"view\": {\"continuousWidth\": 300, \"continuousHeight\": 300}}, \"hconcat\": [{\"vconcat\": [{\"data\": {\"url\": \"altair-data-3b1a14098eedd214b86bbfee3d14ff14.json\", \"format\": {\"type\": \"json\"}}, \"mark\": {\"type\": \"bar\"}, \"encoding\": {\"x\": {\"axis\": {\"labels\": false}, \"bin\": {\"maxbins\": 30, \"extent\": [-2, 4]}, \"field\": \"Ri_3m_c\", \"scale\": {\"clamp\": true}, \"title\": null, \"type\": \"quantitative\"}, \"y\": {\"aggregate\": \"count\", \"title\": null, \"type\": \"quantitative\"}}, \"height\": 30, \"width\": 150}, {\"hconcat\": [{\"layer\": [{\"data\": {\"url\": \"altair-data-3b1a14098eedd214b86bbfee3d14ff14.json\", \"format\": {\"type\": \"json\"}}, \"mark\": {\"type\": \"circle\", \"size\": 10}, \"encoding\": {\"x\": {\"field\": \"Ri_3m_c\", \"scale\": {\"clamp\": true, \"domain\": [-2, 4]}, \"type\": \"quantitative\"}, \"y\": {\"field\": \"w_h2o__3m_c\", \"scale\": {\"clamp\": true, \"domain\": [-0.01, 0.01]}, \"type\": \"quantitative\"}}}, {\"data\": {\"name\": \"empty\"}, \"mark\": {\"type\": \"rule\"}, \"encoding\": {\"x\": {\"datum\": 0.2}}}], \"height\": 150, \"width\": 150}, {\"data\": {\"url\": \"altair-data-3b1a14098eedd214b86bbfee3d14ff14.json\", \"format\": {\"type\": \"json\"}}, \"mark\": {\"type\": \"bar\"}, \"encoding\": {\"x\": {\"aggregate\": \"count\", \"title\": null, \"type\": \"quantitative\"}, \"y\": {\"axis\": {\"labels\": false}, \"bin\": {\"maxbins\": 30, \"extent\": [-0.01, 0.01]}, \"field\": \"w_h2o__3m_c\", \"title\": null, \"type\": \"quantitative\"}}, \"height\": 150, \"width\": 30}]}, {\"hconcat\": [{\"layer\": [{\"data\": {\"url\": \"altair-data-3b1a14098eedd214b86bbfee3d14ff14.json\", \"format\": {\"type\": \"json\"}}, \"mark\": {\"type\": \"circle\", \"size\": 10}, \"encoding\": {\"x\": {\"field\": \"Ri_3m_c\", \"scale\": {\"clamp\": true, \"domain\": [-2, 4]}, \"type\": \"quantitative\"}, \"y\": {\"field\": \"w_tc__3m_c\", \"scale\": {\"clamp\": true, \"domain\": [-0.05, 0.05]}, \"type\": \"quantitative\"}}}, {\"data\": {\"name\": \"empty\"}, \"mark\": {\"type\": \"rule\"}, \"encoding\": {\"x\": {\"datum\": 0.2}}}], \"height\": 150, \"width\": 150}, {\"data\": {\"url\": \"altair-data-3b1a14098eedd214b86bbfee3d14ff14.json\", \"format\": {\"type\": \"json\"}}, \"mark\": {\"type\": \"bar\"}, \"encoding\": {\"x\": {\"aggregate\": \"count\", \"title\": null, \"type\": \"quantitative\"}, \"y\": {\"axis\": {\"labels\": false}, \"bin\": {\"maxbins\": 30, \"extent\": [-0.05, 0.05]}, \"field\": \"w_tc__3m_c\", \"title\": null, \"type\": \"quantitative\"}}, \"height\": 150, \"width\": 30}]}], \"title\": \"2023-02-10 - 2023-02-12\"}, {\"vconcat\": [{\"data\": {\"url\": \"altair-data-51d0e430e1eb79f7603b6d034ea8f6d7.json\", \"format\": {\"type\": \"json\"}}, \"mark\": {\"type\": \"bar\"}, \"encoding\": {\"x\": {\"axis\": {\"labels\": false}, \"bin\": {\"maxbins\": 30, \"extent\": [-2, 4]}, \"field\": \"Ri_3m_c\", \"scale\": {\"clamp\": true}, \"title\": null, \"type\": \"quantitative\"}, \"y\": {\"aggregate\": \"count\", \"title\": null, \"type\": \"quantitative\"}}, \"height\": 30, \"width\": 150}, {\"hconcat\": [{\"layer\": [{\"data\": {\"url\": \"altair-data-51d0e430e1eb79f7603b6d034ea8f6d7.json\", \"format\": {\"type\": \"json\"}}, \"mark\": {\"type\": \"circle\", \"size\": 10}, \"encoding\": {\"x\": {\"field\": \"Ri_3m_c\", \"scale\": {\"clamp\": true, \"domain\": [-2, 4]}, \"type\": \"quantitative\"}, \"y\": {\"field\": \"w_h2o__3m_c\", \"scale\": {\"clamp\": true, \"domain\": [-0.01, 0.01]}, \"type\": \"quantitative\"}}}, {\"data\": {\"name\": \"empty\"}, \"mark\": {\"type\": \"rule\"}, \"encoding\": {\"x\": {\"datum\": 0.2}}}], \"height\": 150, \"width\": 150}, {\"data\": {\"url\": \"altair-data-51d0e430e1eb79f7603b6d034ea8f6d7.json\", \"format\": {\"type\": \"json\"}}, \"mark\": {\"type\": \"bar\"}, \"encoding\": {\"x\": {\"aggregate\": \"count\", \"title\": null, \"type\": \"quantitative\"}, \"y\": {\"axis\": {\"labels\": false}, \"bin\": {\"maxbins\": 30, \"extent\": [-0.01, 0.01]}, \"field\": \"w_h2o__3m_c\", \"title\": null, \"type\": \"quantitative\"}}, \"height\": 150, \"width\": 30}]}, {\"hconcat\": [{\"layer\": [{\"data\": {\"url\": \"altair-data-51d0e430e1eb79f7603b6d034ea8f6d7.json\", \"format\": {\"type\": \"json\"}}, \"mark\": {\"type\": \"circle\", \"size\": 10}, \"encoding\": {\"x\": {\"field\": \"Ri_3m_c\", \"scale\": {\"clamp\": true, \"domain\": [-2, 4]}, \"type\": \"quantitative\"}, \"y\": {\"field\": \"w_tc__3m_c\", \"scale\": {\"clamp\": true, \"domain\": [-0.05, 0.05]}, \"type\": \"quantitative\"}}}, {\"data\": {\"name\": \"empty\"}, \"mark\": {\"type\": \"rule\"}, \"encoding\": {\"x\": {\"datum\": 0.2}}}], \"height\": 150, \"width\": 150}, {\"data\": {\"url\": \"altair-data-51d0e430e1eb79f7603b6d034ea8f6d7.json\", \"format\": {\"type\": \"json\"}}, \"mark\": {\"type\": \"bar\"}, \"encoding\": {\"x\": {\"aggregate\": \"count\", \"title\": null, \"type\": \"quantitative\"}, \"y\": {\"axis\": {\"labels\": false}, \"bin\": {\"maxbins\": 30, \"extent\": [-0.05, 0.05]}, \"field\": \"w_tc__3m_c\", \"title\": null, \"type\": \"quantitative\"}}, \"height\": 150, \"width\": 30}]}], \"title\": \"2023-02-19 - 2023-02-21\"}, {\"vconcat\": [{\"data\": {\"url\": \"altair-data-4081bf7f53b0b3eec35f51c9269f5db7.json\", \"format\": {\"type\": \"json\"}}, \"mark\": {\"type\": \"bar\"}, \"encoding\": {\"x\": {\"axis\": {\"labels\": false}, \"bin\": {\"maxbins\": 30, \"extent\": [-2, 4]}, \"field\": \"Ri_3m_c\", \"scale\": {\"clamp\": true}, \"title\": null, \"type\": \"quantitative\"}, \"y\": {\"aggregate\": \"count\", \"title\": null, \"type\": \"quantitative\"}}, \"height\": 30, \"width\": 150}, {\"hconcat\": [{\"layer\": [{\"data\": {\"url\": \"altair-data-4081bf7f53b0b3eec35f51c9269f5db7.json\", \"format\": {\"type\": \"json\"}}, \"mark\": {\"type\": \"circle\", \"size\": 10}, \"encoding\": {\"x\": {\"field\": \"Ri_3m_c\", \"scale\": {\"clamp\": true, \"domain\": [-2, 4]}, \"type\": \"quantitative\"}, \"y\": {\"field\": \"w_h2o__3m_c\", \"scale\": {\"clamp\": true, \"domain\": [-0.01, 0.01]}, \"type\": \"quantitative\"}}}, {\"data\": {\"name\": \"empty\"}, \"mark\": {\"type\": \"rule\"}, \"encoding\": {\"x\": {\"datum\": 0.2}}}], \"height\": 150, \"width\": 150}, {\"data\": {\"url\": \"altair-data-4081bf7f53b0b3eec35f51c9269f5db7.json\", \"format\": {\"type\": \"json\"}}, \"mark\": {\"type\": \"bar\"}, \"encoding\": {\"x\": {\"aggregate\": \"count\", \"title\": null, \"type\": \"quantitative\"}, \"y\": {\"axis\": {\"labels\": false}, \"bin\": {\"maxbins\": 30, \"extent\": [-0.01, 0.01]}, \"field\": \"w_h2o__3m_c\", \"title\": null, \"type\": \"quantitative\"}}, \"height\": 150, \"width\": 30}]}, {\"hconcat\": [{\"layer\": [{\"data\": {\"url\": \"altair-data-4081bf7f53b0b3eec35f51c9269f5db7.json\", \"format\": {\"type\": \"json\"}}, \"mark\": {\"type\": \"circle\", \"size\": 10}, \"encoding\": {\"x\": {\"field\": \"Ri_3m_c\", \"scale\": {\"clamp\": true, \"domain\": [-2, 4]}, \"type\": \"quantitative\"}, \"y\": {\"field\": \"w_tc__3m_c\", \"scale\": {\"clamp\": true, \"domain\": [-0.05, 0.05]}, \"type\": \"quantitative\"}}}, {\"data\": {\"name\": \"empty\"}, \"mark\": {\"type\": \"rule\"}, \"encoding\": {\"x\": {\"datum\": 0.2}}}], \"height\": 150, \"width\": 150}, {\"data\": {\"url\": \"altair-data-4081bf7f53b0b3eec35f51c9269f5db7.json\", \"format\": {\"type\": \"json\"}}, \"mark\": {\"type\": \"bar\"}, \"encoding\": {\"x\": {\"aggregate\": \"count\", \"title\": null, \"type\": \"quantitative\"}, \"y\": {\"axis\": {\"labels\": false}, \"bin\": {\"maxbins\": 30, \"extent\": [-0.05, 0.05]}, \"field\": \"w_tc__3m_c\", \"title\": null, \"type\": \"quantitative\"}}, \"height\": 150, \"width\": 30}]}], \"title\": \"2023-03-17 - 2023-03-19\"}], \"$schema\": \"https://vega.github.io/schema/vega-lite/v5.8.0.json\", \"datasets\": {\"empty\": [{}]}}, {\"mode\": \"vega-lite\"});\n",
       "</script>"
      ],
      "text/plain": [
       "alt.HConcatChart(...)"
      ]
     },
     "execution_count": 60,
     "metadata": {},
     "output_type": "execute_result"
    }
   ],
   "source": [
    "scatterplots(df1).properties(title=f'{start_date1f} - {end_date1f}') | scatterplots(df2).properties(title=f'{start_date2f} - {end_date2f}') | scatterplots(df3).properties(title=f'{start_date3f} - {end_date3f}')"
   ]
  },
  {
   "attachments": {},
   "cell_type": "markdown",
   "metadata": {},
   "source": [
    "# Problem 2: Mass vs Energy Fluxes in Sublimation\n",
    "\n",
    "Consider again, the major wind event of 22 December 2021 that moved a fair bit of snow around. Over the 24-hour period of measured blowing snow at 1 m (as documented by the FlowCapt sensor), calculate \n",
    "* (a) the total mass (in grams/m^2) of snow that horizontally moved past the sensor, \n",
    "* (b) the total mass (in grams/m^2) of water vapor that was transported vertically away from the snow over this time interval, \n",
    "* (c) the total energy (in Joules, using the latent heat of sublimation) that went into converting snow to the amount of water vapor calculated in b, and \n",
    "* (d) the total energy change per m^2 area, in the snowpack, calculated with the specific heats of ice and air, the density of the snow to represent fractional ice content, the depth over which a change was observed, and the observed temperature change (as measured from the thermistors in the snowpack at this time)"
   ]
  },
  {
   "cell_type": "code",
   "execution_count": null,
   "metadata": {},
   "outputs": [],
   "source": [
    "df4 = df.set_index('time').loc['20221222':'20221222'].reset_index()"
   ]
  },
  {
   "attachments": {},
   "cell_type": "markdown",
   "metadata": {},
   "source": [
    "## (A) Daily total blowing snow mass flux"
   ]
  },
  {
   "cell_type": "code",
   "execution_count": null,
   "metadata": {},
   "outputs": [],
   "source": [
    "# values are in g/m^2/s over 30 minute windows\n",
    "# to avoid filling in missing data points, take the mean\n",
    "# multiply mean flux g/m^s/s times seconds in a day\n",
    "mean_snow_flux = df4.query(\"variable == 'SF_avg_1m_ue'\")['value'].mean()\n",
    "daily_snow_flux = mean_snow_flux * 60*60*24"
   ]
  },
  {
   "cell_type": "code",
   "execution_count": null,
   "metadata": {},
   "outputs": [
    {
     "data": {
      "text/plain": [
       "(8.138090542987314, 703.1310229141039)"
      ]
     },
     "execution_count": 17,
     "metadata": {},
     "output_type": "execute_result"
    }
   ],
   "source": [
    "mean_snow_flux, daily_snow_flux/1000"
   ]
  },
  {
   "attachments": {},
   "cell_type": "markdown",
   "metadata": {},
   "source": [
    "## (B) Daily total vertical water vapor mass flux"
   ]
  },
  {
   "cell_type": "code",
   "execution_count": null,
   "metadata": {},
   "outputs": [],
   "source": [
    "mean_LH_flux = df4.query(\"variable == 'w_h2o__2m_c'\")['value'].mean()\n",
    "daily_LH_flux = mean_LH_flux * 60*60*24"
   ]
  },
  {
   "cell_type": "code",
   "execution_count": null,
   "metadata": {},
   "outputs": [
    {
     "data": {
      "text/plain": [
       "0.015498603305534037"
      ]
     },
     "execution_count": 19,
     "metadata": {},
     "output_type": "execute_result"
    }
   ],
   "source": [
    "mean_LH_flux"
   ]
  },
  {
   "cell_type": "code",
   "execution_count": null,
   "metadata": {},
   "outputs": [
    {
     "name": "stdout",
     "output_type": "stream",
     "text": [
      "-rw-rw-r--. 1 elilouis elilouis 409K May 23 02:49 case1.svg\n",
      "-rw-rw-r--. 1 elilouis elilouis 413K May 23 02:49 case2.svg\n",
      "-rw-rw-r--. 1 elilouis elilouis 414K May 23 02:50 case3.svg\n",
      "-rw-rw-r--. 1 elilouis elilouis 467K May 23 22:23 visualization2.svg\n",
      "-rw-rw-r--. 1 elilouis elilouis 377K May 23 22:24 visualization3.svg\n",
      "-rw-rw-r--. 1 elilouis elilouis  36K May 23 14:08 visualization4.svg\n",
      "-rw-rw-r--. 1 elilouis elilouis 227K May 23 22:23 visualization.svg\n"
     ]
    }
   ],
   "source": [
    "ls -lah | grep svg"
   ]
  },
  {
   "cell_type": "code",
   "execution_count": null,
   "metadata": {},
   "outputs": [
    {
     "data": {
      "text/plain": [
       "1.3390793255981408"
      ]
     },
     "execution_count": 20,
     "metadata": {},
     "output_type": "execute_result"
    }
   ],
   "source": [
    "daily_LH_flux/1000 #in units of kg"
   ]
  },
  {
   "attachments": {},
   "cell_type": "markdown",
   "metadata": {},
   "source": [
    "## (C) Daily total vertical LH flux"
   ]
  },
  {
   "cell_type": "code",
   "execution_count": null,
   "metadata": {},
   "outputs": [
    {
     "data": {
      "text/plain": [
       "2590"
      ]
     },
     "execution_count": 21,
     "metadata": {},
     "output_type": "execute_result"
    }
   ],
   "source": [
    "# latent heat of vaporization for the ice-vapor transition (sublimation)\n",
    "L_s = 334 + 2256 # in units of \"kJ/kg\n",
    "L_s"
   ]
  },
  {
   "cell_type": "code",
   "execution_count": null,
   "metadata": {},
   "outputs": [
    {
     "data": {
      "text/plain": [
       "3468.215453299185"
      ]
     },
     "execution_count": 22,
     "metadata": {},
     "output_type": "execute_result"
    }
   ],
   "source": [
    "(daily_LH_flux/1000) * L_s # in units of kJ"
   ]
  },
  {
   "attachments": {},
   "cell_type": "markdown",
   "metadata": {},
   "source": [
    "(D) Total energy change per m^2 area, in the snowpack,\n",
    "\n",
    "Calculated with the specific heats of ice and air, the density of the snow to represent fractional ice content, the depth over which a change was observed, and the observed temperature change (as measured from the thermistors in the snowpack at this time)"
   ]
  },
  {
   "cell_type": "code",
   "execution_count": null,
   "metadata": {},
   "outputs": [
    {
     "data": {
      "text/html": [
       "\n",
       "<style>\n",
       "  #altair-viz-3af7ca4193754e4e842da8c582477c6f.vega-embed {\n",
       "    width: 100%;\n",
       "    display: flex;\n",
       "  }\n",
       "\n",
       "  #altair-viz-3af7ca4193754e4e842da8c582477c6f.vega-embed details,\n",
       "  #altair-viz-3af7ca4193754e4e842da8c582477c6f.vega-embed details summary {\n",
       "    position: relative;\n",
       "  }\n",
       "</style>\n",
       "<div id=\"altair-viz-3af7ca4193754e4e842da8c582477c6f\"></div>\n",
       "<script type=\"text/javascript\">\n",
       "  var VEGA_DEBUG = (typeof VEGA_DEBUG == \"undefined\") ? {} : VEGA_DEBUG;\n",
       "  (function(spec, embedOpt){\n",
       "    let outputDiv = document.currentScript.previousElementSibling;\n",
       "    if (outputDiv.id !== \"altair-viz-3af7ca4193754e4e842da8c582477c6f\") {\n",
       "      outputDiv = document.getElementById(\"altair-viz-3af7ca4193754e4e842da8c582477c6f\");\n",
       "    }\n",
       "    const paths = {\n",
       "      \"vega\": \"https://cdn.jsdelivr.net/npm/vega@5?noext\",\n",
       "      \"vega-lib\": \"https://cdn.jsdelivr.net/npm/vega-lib?noext\",\n",
       "      \"vega-lite\": \"https://cdn.jsdelivr.net/npm/vega-lite@5.8.0?noext\",\n",
       "      \"vega-embed\": \"https://cdn.jsdelivr.net/npm/vega-embed@6?noext\",\n",
       "    };\n",
       "\n",
       "    function maybeLoadScript(lib, version) {\n",
       "      var key = `${lib.replace(\"-\", \"\")}_version`;\n",
       "      return (VEGA_DEBUG[key] == version) ?\n",
       "        Promise.resolve(paths[lib]) :\n",
       "        new Promise(function(resolve, reject) {\n",
       "          var s = document.createElement('script');\n",
       "          document.getElementsByTagName(\"head\")[0].appendChild(s);\n",
       "          s.async = true;\n",
       "          s.onload = () => {\n",
       "            VEGA_DEBUG[key] = version;\n",
       "            return resolve(paths[lib]);\n",
       "          };\n",
       "          s.onerror = () => reject(`Error loading script: ${paths[lib]}`);\n",
       "          s.src = paths[lib];\n",
       "        });\n",
       "    }\n",
       "\n",
       "    function showError(err) {\n",
       "      outputDiv.innerHTML = `<div class=\"error\" style=\"color:red;\">${err}</div>`;\n",
       "      throw err;\n",
       "    }\n",
       "\n",
       "    function displayChart(vegaEmbed) {\n",
       "      vegaEmbed(outputDiv, spec, embedOpt)\n",
       "        .catch(err => showError(`Javascript Error: ${err.message}<br>This usually means there's a typo in your chart specification. See the javascript console for the full traceback.`));\n",
       "    }\n",
       "\n",
       "    if(typeof define === \"function\" && define.amd) {\n",
       "      requirejs.config({paths});\n",
       "      require([\"vega-embed\"], displayChart, err => showError(`Error loading script: ${err.message}`));\n",
       "    } else {\n",
       "      maybeLoadScript(\"vega\", \"5\")\n",
       "        .then(() => maybeLoadScript(\"vega-lite\", \"5.8.0\"))\n",
       "        .then(() => maybeLoadScript(\"vega-embed\", \"6\"))\n",
       "        .catch(showError)\n",
       "        .then(() => displayChart(vegaEmbed));\n",
       "    }\n",
       "  })({\"config\": {\"view\": {\"continuousWidth\": 300, \"continuousHeight\": 300}}, \"data\": {\"url\": \"altair-data-02e6833fad1d560303919320ab417e69.json\", \"format\": {\"type\": \"json\"}}, \"mark\": {\"type\": \"line\"}, \"encoding\": {\"color\": {\"field\": \"height\", \"scale\": {\"scheme\": \"rainbow\"}, \"type\": \"ordinal\"}, \"x\": {\"field\": \"time\", \"type\": \"temporal\"}, \"y\": {\"field\": \"value\", \"scale\": {\"zero\": false}, \"title\": \"Temperature (\\u02daC)\", \"type\": \"quantitative\"}}, \"height\": 200, \"width\": 600, \"$schema\": \"https://vega.github.io/schema/vega-lite/v5.8.0.json\"}, {\"mode\": \"vega-lite\"});\n",
       "</script>"
      ],
      "text/plain": [
       "alt.Chart(...)"
      ]
     },
     "execution_count": 23,
     "metadata": {},
     "output_type": "execute_result"
    }
   ],
   "source": [
    "snow_temps_df = df4.query(\"measurement == 'snow temperature'\").query(\"tower == 'uw'\")\n",
    "alt.Chart(snow_temps_df).mark_line().encode(\n",
    "    alt.X(\"time:T\"),\n",
    "    alt.Y(\"value:Q\").scale(zero=False).title(\"Temperature (˚C)\"),\n",
    "    alt.Color(\"height:O\").scale(scheme='rainbow')\n",
    ").properties(width=600, height=200)\n"
   ]
  },
  {
   "attachments": {},
   "cell_type": "markdown",
   "metadata": {},
   "source": [
    "Looking at the plot of the in-snow thermistor array, it looks like only the 0.4m measurement was buried the entire time, so that is the only temperature we will use to measure change. Note also that additional thermistors were buried during the day, but for simplicity, we will use the thermistors at the beginning of the day to estimate the snowpack depth of 45cm (it was between the 0.4 and 0.5 thermistors at the beginning of the day.).\n",
    "\n",
    "We measure the change in temperature 0.4m to estimate the change of the snow's bulk temperature."
   ]
  },
  {
   "cell_type": "code",
   "execution_count": null,
   "metadata": {},
   "outputs": [],
   "source": [
    "# Assume 30% density\n",
    "# Snowpack is 0.45 meters deep\n",
    "# We saw an increase in temperature of 0.92˚C\n",
    "\n",
    "specific_heat_ice = 2090 # Joules/kg/˚C \n",
    "specific_heat_air = 1005 # Joules/kg/˚C, dry air at sea level\n",
    "\n",
    "air_density = df4.query(\"measurement == 'ait density'\")['value'].mean() # kg/m^3\n",
    "ice_density = 917 # kg/m^3\n",
    "\n",
    "snowpack_temperature_change = df4.query(\"variable == 'Tsnow_0_4m_uw'\")['value'].iloc[-1] - df4.query(\"variable == 'Tsnow_0_4m_uw'\")['value'].iloc[0]\n",
    "\n",
    "snow_density = 0.3\n",
    "snow_depth = 0.45 # meters\n",
    "area = 1 # meters^2\n",
    "snow_volume = snow_depth*area # meters^3\n",
    "air_volume = snow_volume*(1 - snow_density) # m^3\n",
    "ice_volume = snow_volume*(snow_density) # m^3\n",
    "\n",
    "air_mass = air_volume*air_density\n",
    "ice_mass = ice_volume*ice_density"
   ]
  },
  {
   "cell_type": "code",
   "execution_count": null,
   "metadata": {},
   "outputs": [
    {
     "data": {
      "text/plain": [
       "(nan, 123.795)"
      ]
     },
     "execution_count": 25,
     "metadata": {},
     "output_type": "execute_result"
    }
   ],
   "source": [
    "air_mass, ice_mass"
   ]
  },
  {
   "attachments": {},
   "cell_type": "markdown",
   "metadata": {},
   "source": [
    "(D) Total energy change per m^2 area, in the snowpack,\n",
    "\n",
    "Calculated with the specific heats of ice and air, the density of the snow to represent fractional ice content, the depth over which a change was observed, and the observed temperature change (as measured from the thermistors in the snowpack at this time)"
   ]
  },
  {
   "attachments": {},
   "cell_type": "markdown",
   "metadata": {},
   "source": [
    "snowpack energy change = \n",
    "        \n",
    "        (change in bulk temperature of air)*(specific heat of air)*(mass of air) \n",
    "        + (change in bulk temperature of snow)*(specific heat of snow)*(mass of snow) \n",
    "\n",
    "Where we assume that (change in bulk temperature of air) = (change in bulk temperature of snow)."
   ]
  },
  {
   "cell_type": "code",
   "execution_count": null,
   "metadata": {},
   "outputs": [
    {
     "data": {
      "text/plain": [
       "nan"
      ]
     },
     "execution_count": 26,
     "metadata": {},
     "output_type": "execute_result"
    }
   ],
   "source": [
    "snowpack_energy_change = snowpack_temperature_change*specific_heat_air*air_mass + snowpack_temperature_change*specific_heat_ice*ice_mass\n",
    "snowpack_energy_change # in Joules"
   ]
  },
  {
   "cell_type": "code",
   "execution_count": null,
   "metadata": {},
   "outputs": [],
   "source": []
  },
  {
   "cell_type": "code",
   "execution_count": null,
   "metadata": {},
   "outputs": [],
   "source": []
  }
 ],
 "metadata": {
  "kernelspec": {
   "display_name": "arm",
   "language": "python",
   "name": "python3"
  },
  "language_info": {
   "codemirror_mode": {
    "name": "ipython",
    "version": 3
   },
   "file_extension": ".py",
   "mimetype": "text/x-python",
   "name": "python",
   "nbconvert_exporter": "python",
   "pygments_lexer": "ipython3",
   "version": "3.11.0"
  },
  "orig_nbformat": 4,
  "vscode": {
   "interpreter": {
    "hash": "e2b11a00ad1b97cabcd9cc9209b8824a0fcaf6ffe37b5243943912873b5dcab1"
   }
  }
 },
 "nbformat": 4,
 "nbformat_minor": 2
}
