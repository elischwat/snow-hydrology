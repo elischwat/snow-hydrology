{
 "cells": [
  {
   "attachments": {},
   "cell_type": "markdown",
   "metadata": {},
   "source": [
    "# HW 2\n",
    "**Eli Schwat**  \n",
    "**CEWA 568**  \n",
    "**Spring 2023**"
   ]
  },
  {
   "cell_type": "code",
   "execution_count": 1,
   "metadata": {},
   "outputs": [
    {
     "name": "stderr",
     "output_type": "stream",
     "text": [
      "/home/elilouis/mambaforge/envs/arm/lib/python3.11/site-packages/metloom/pointdata/base.py:7: UserWarning: Shapely 2.0 is installed, but because PyGEOS is also installed, GeoPandas will still use PyGEOS by default for now. To force to use and test Shapely 2.0, you have to set the environment variable USE_PYGEOS=0. You can do this before starting the Python process, or in your code before importing geopandas:\n",
      "\n",
      "import os\n",
      "os.environ['USE_PYGEOS'] = '0'\n",
      "import geopandas\n",
      "\n",
      "In a future release, GeoPandas will switch to using Shapely by default. If you are using PyGEOS directly (calling PyGEOS functions on geometries from GeoPandas), this will then stop working and you are encouraged to migrate from PyGEOS to Shapely 2.0 (https://shapely.readthedocs.io/en/latest/migration_pygeos.html).\n",
      "  import geopandas as gpd\n"
     ]
    },
    {
     "data": {
      "text/plain": [
       "DataTransformerRegistry.enable('default')"
      ]
     },
     "execution_count": 1,
     "metadata": {},
     "output_type": "execute_result"
    }
   ],
   "source": [
    "import xarray as xr\n",
    "import altair as alt\n",
    "import pandas as pd\n",
    "import datetime as dt\n",
    "from metloom.pointdata import SnotelPointData\n",
    "\n",
    "alt.renderers.enable(\"png\")\n",
    "alt.data_transformers.disable_max_rows()"
   ]
  },
  {
   "attachments": {},
   "cell_type": "markdown",
   "metadata": {},
   "source": [
    "# Problem 1\n",
    "\n",
    "Using the observations of total precipitation and the snow pillow data (see labs above), we are going to investigate the mass balance and snow accumulation at Kettle Ponds."
   ]
  },
  {
   "attachments": {},
   "cell_type": "markdown",
   "metadata": {},
   "source": [
    "## A. \n",
    "\n",
    "Plot a timeseries of total accumulated precipitation and total accumulated snow water equivalent from the four snow pillows. Add to your plot timeseries from the two Snotel Stations located nearby. Discuss how they match and how they differ, and why you think they differ.\n"
   ]
  },
  {
   "attachments": {},
   "cell_type": "markdown",
   "metadata": {},
   "source": [
    "### Tilden Precip Data"
   ]
  },
  {
   "cell_type": "code",
   "execution_count": 2,
   "metadata": {},
   "outputs": [],
   "source": [
    "precip_xr = xr.open_dataset('../modules/data/precipitation.nc')\n",
    "precip_df = precip_xr.to_dataframe().reset_index()"
   ]
  },
  {
   "cell_type": "code",
   "execution_count": 3,
   "metadata": {},
   "outputs": [
    {
     "data": {
      "text/html": [
       "<div>\n",
       "<style scoped>\n",
       "    .dataframe tbody tr th:only-of-type {\n",
       "        vertical-align: middle;\n",
       "    }\n",
       "\n",
       "    .dataframe tbody tr th {\n",
       "        vertical-align: top;\n",
       "    }\n",
       "\n",
       "    .dataframe thead th {\n",
       "        text-align: right;\n",
       "    }\n",
       "</style>\n",
       "<table border=\"1\" class=\"dataframe\">\n",
       "  <thead>\n",
       "    <tr style=\"text-align: right;\">\n",
       "      <th></th>\n",
       "      <th>date</th>\n",
       "      <th>acc_prec</th>\n",
       "    </tr>\n",
       "  </thead>\n",
       "  <tbody>\n",
       "    <tr>\n",
       "      <th>0</th>\n",
       "      <td>2022-11-01</td>\n",
       "      <td>0.00</td>\n",
       "    </tr>\n",
       "    <tr>\n",
       "      <th>1</th>\n",
       "      <td>2022-11-02</td>\n",
       "      <td>0.00</td>\n",
       "    </tr>\n",
       "    <tr>\n",
       "      <th>2</th>\n",
       "      <td>2022-11-03</td>\n",
       "      <td>10.90</td>\n",
       "    </tr>\n",
       "    <tr>\n",
       "      <th>3</th>\n",
       "      <td>2022-11-04</td>\n",
       "      <td>10.90</td>\n",
       "    </tr>\n",
       "    <tr>\n",
       "      <th>4</th>\n",
       "      <td>2022-11-05</td>\n",
       "      <td>11.11</td>\n",
       "    </tr>\n",
       "    <tr>\n",
       "      <th>...</th>\n",
       "      <td>...</td>\n",
       "      <td>...</td>\n",
       "    </tr>\n",
       "    <tr>\n",
       "      <th>127</th>\n",
       "      <td>2023-03-08</td>\n",
       "      <td>344.04</td>\n",
       "    </tr>\n",
       "    <tr>\n",
       "      <th>128</th>\n",
       "      <td>2023-03-09</td>\n",
       "      <td>344.04</td>\n",
       "    </tr>\n",
       "    <tr>\n",
       "      <th>129</th>\n",
       "      <td>2023-03-10</td>\n",
       "      <td>387.95</td>\n",
       "    </tr>\n",
       "    <tr>\n",
       "      <th>130</th>\n",
       "      <td>2023-03-11</td>\n",
       "      <td>403.39</td>\n",
       "    </tr>\n",
       "    <tr>\n",
       "      <th>131</th>\n",
       "      <td>2023-03-12</td>\n",
       "      <td>412.01</td>\n",
       "    </tr>\n",
       "  </tbody>\n",
       "</table>\n",
       "<p>132 rows × 2 columns</p>\n",
       "</div>"
      ],
      "text/plain": [
       "          date  acc_prec\n",
       "0   2022-11-01      0.00\n",
       "1   2022-11-02      0.00\n",
       "2   2022-11-03     10.90\n",
       "3   2022-11-04     10.90\n",
       "4   2022-11-05     11.11\n",
       "..         ...       ...\n",
       "127 2023-03-08    344.04\n",
       "128 2023-03-09    344.04\n",
       "129 2023-03-10    387.95\n",
       "130 2023-03-11    403.39\n",
       "131 2023-03-12    412.01\n",
       "\n",
       "[132 rows x 2 columns]"
      ]
     },
     "execution_count": 3,
     "metadata": {},
     "output_type": "execute_result"
    }
   ],
   "source": [
    "precip_df"
   ]
  },
  {
   "attachments": {},
   "cell_type": "markdown",
   "metadata": {},
   "source": [
    "### SoS Snow Pillow data"
   ]
  },
  {
   "attachments": {},
   "cell_type": "markdown",
   "metadata": {},
   "source": [
    "#### Download"
   ]
  },
  {
   "cell_type": "code",
   "execution_count": 5,
   "metadata": {},
   "outputs": [
    {
     "name": "stdout",
     "output_type": "stream",
     "text": [
      "mkdir: cannot create directory ‘/data2/elilouis/sublimationofsnow/sosnoqc/’: File exists\n"
     ]
    }
   ],
   "source": [
    "start_date = '20221201'\n",
    "end_date = '20230312'\n",
    "VARIABLES = ['SWE_p1_c', 'SWE_p2_c', 'SWE_p3_c', 'SWE_p4_c', 'T_2m_c']\n",
    "download_directory = \"/data2/elilouis/sublimationofsnow/sosnoqc/\"\n",
    "!mkdir $download_directory"
   ]
  },
  {
   "cell_type": "code",
   "execution_count": 6,
   "metadata": {},
   "outputs": [],
   "source": [
    "import urllib\n",
    "def download_sos_data_day(date, local_download_dir, cache=True):\n",
    "    \"\"\"Download a netcdf file from the ftp url provided by the Earth Observing \n",
    "    Laboratory at NCAR. Data comes in one NetCDF file per day, Reynolds-Averaged \n",
    "    with a 5-minute averaging period.\n",
    "\n",
    "    Args:\n",
    "        date (str, optional): String representing a date in format '%Y%m%d'. Defaults to '20221101'.\n",
    "        local_download_dir (str, optional): Directory to which files will be downloaded. Defaults \n",
    "                    to 'sosnoqc'; this directory will be created if it  does not already exist.\n",
    "        cache (bool, optional): If True, looks in `local_download_dir` for requested  file, if it \n",
    "                    exists, does not redownload file. If False, downloads file from the FTP server.\n",
    "\n",
    "    Returns:\n",
    "        _type_: Relative path to the downloaded file\n",
    "    \"\"\"\n",
    "    base_url = 'ftp.eol.ucar.edu'\n",
    "    path = 'pub/archive/isfs/projects/SOS/netcdf/noqc_geo'\n",
    "    file = f'isfs_{date}.nc'\n",
    "    os.makedirs(local_download_dir, exist_ok=True)\n",
    "    full_file_path = os.path.join('ftp://', base_url, path, file)\n",
    "    download_file_path = os.path.join(local_download_dir, file)\n",
    "    if cache and os.path.isfile(download_file_path):\n",
    "        print(f\"Caching...skipping download for {date}\")\n",
    "    else:\n",
    "        urllib.request.urlretrieve(\n",
    "            full_file_path,\n",
    "            download_file_path   \n",
    "        )\n",
    "    return download_file_path"
   ]
  },
  {
   "cell_type": "code",
   "execution_count": 7,
   "metadata": {},
   "outputs": [
    {
     "name": "stdout",
     "output_type": "stream",
     "text": [
      "Caching...skipping download for 20221201\n",
      "Caching...skipping download for 20221202\n",
      "Caching...skipping download for 20221203\n",
      "Caching...skipping download for 20221204\n",
      "Caching...skipping download for 20221205\n",
      "Caching...skipping download for 20221206\n",
      "Caching...skipping download for 20221207\n",
      "Caching...skipping download for 20221208\n",
      "Caching...skipping download for 20221209\n",
      "Caching...skipping download for 20221210\n",
      "Caching...skipping download for 20221211\n",
      "Caching...skipping download for 20221212\n",
      "Caching...skipping download for 20221213\n",
      "Caching...skipping download for 20221214\n",
      "Caching...skipping download for 20221215\n",
      "Caching...skipping download for 20221216\n",
      "Caching...skipping download for 20221217\n",
      "Caching...skipping download for 20221218\n",
      "Caching...skipping download for 20221219\n",
      "Caching...skipping download for 20221220\n",
      "Caching...skipping download for 20221221\n",
      "Caching...skipping download for 20221222\n",
      "Caching...skipping download for 20221223\n",
      "Caching...skipping download for 20221224\n",
      "Caching...skipping download for 20221225\n",
      "Caching...skipping download for 20221226\n",
      "Caching...skipping download for 20221227\n",
      "Caching...skipping download for 20221228\n",
      "Caching...skipping download for 20221229\n",
      "Caching...skipping download for 20221230\n",
      "Caching...skipping download for 20221231\n",
      "Caching...skipping download for 20230101\n",
      "Caching...skipping download for 20230102\n",
      "Caching...skipping download for 20230103\n",
      "Caching...skipping download for 20230104\n",
      "Caching...skipping download for 20230105\n",
      "Caching...skipping download for 20230106\n",
      "Caching...skipping download for 20230107\n",
      "Caching...skipping download for 20230108\n",
      "Caching...skipping download for 20230109\n",
      "Caching...skipping download for 20230110\n",
      "Caching...skipping download for 20230111\n",
      "Caching...skipping download for 20230112\n",
      "Caching...skipping download for 20230113\n",
      "Caching...skipping download for 20230114\n",
      "Caching...skipping download for 20230115\n",
      "Caching...skipping download for 20230116\n",
      "Caching...skipping download for 20230117\n",
      "Caching...skipping download for 20230118\n",
      "Caching...skipping download for 20230119\n",
      "Caching...skipping download for 20230120\n",
      "Caching...skipping download for 20230121\n",
      "Caching...skipping download for 20230122\n",
      "Caching...skipping download for 20230123\n",
      "Caching...skipping download for 20230124\n",
      "Caching...skipping download for 20230125\n",
      "Caching...skipping download for 20230126\n",
      "Caching...skipping download for 20230127\n",
      "Caching...skipping download for 20230128\n",
      "Caching...skipping download for 20230129\n",
      "Caching...skipping download for 20230130\n",
      "Caching...skipping download for 20230131\n",
      "Caching...skipping download for 20230201\n",
      "Caching...skipping download for 20230202\n",
      "Caching...skipping download for 20230203\n",
      "Caching...skipping download for 20230204\n",
      "Caching...skipping download for 20230205\n",
      "Caching...skipping download for 20230206\n",
      "Caching...skipping download for 20230207\n",
      "Caching...skipping download for 20230208\n",
      "Caching...skipping download for 20230209\n",
      "Caching...skipping download for 20230210\n",
      "Caching...skipping download for 20230211\n",
      "Caching...skipping download for 20230212\n",
      "Caching...skipping download for 20230213\n",
      "Caching...skipping download for 20230214\n",
      "Caching...skipping download for 20230215\n",
      "Caching...skipping download for 20230216\n",
      "Caching...skipping download for 20230217\n",
      "Caching...skipping download for 20230218\n",
      "Caching...skipping download for 20230219\n",
      "Caching...skipping download for 20230220\n",
      "Caching...skipping download for 20230221\n",
      "Caching...skipping download for 20230222\n",
      "Caching...skipping download for 20230223\n",
      "Caching...skipping download for 20230224\n",
      "Caching...skipping download for 20230225\n",
      "Caching...skipping download for 20230226\n",
      "Caching...skipping download for 20230227\n",
      "Caching...skipping download for 20230228\n",
      "Caching...skipping download for 20230301\n",
      "Caching...skipping download for 20230302\n",
      "Caching...skipping download for 20230303\n",
      "Caching...skipping download for 20230304\n",
      "Caching...skipping download for 20230305\n",
      "Caching...skipping download for 20230306\n",
      "Caching...skipping download for 20230307\n",
      "Caching...skipping download for 20230308\n",
      "Caching...skipping download for 20230309\n",
      "Caching...skipping download for 20230310\n",
      "Caching...skipping download for 20230311\n",
      "Caching...skipping download for 20230312\n"
     ]
    }
   ],
   "source": [
    "# Create a list of datetime objects for every day between the provided start_date and end_date. \n",
    "datelist = pd.date_range(\n",
    "    dt.datetime.strptime(start_date, '%Y%m%d'),\n",
    "    dt.datetime.strptime(end_date, '%Y%m%d'),\n",
    "    freq='d'\n",
    ").strftime('%Y%m%d').tolist()\n",
    "\n",
    "# Download one daily file for each date in the datelist. \n",
    "# cache = True so that when we rerun the notebook in the future, we don't have to redownload the data.\n",
    "files = [download_sos_data_day(date, download_directory, cache=True) for date in datelist]"
   ]
  },
  {
   "attachments": {},
   "cell_type": "markdown",
   "metadata": {},
   "source": [
    "#### Open"
   ]
  },
  {
   "cell_type": "code",
   "execution_count": 7,
   "metadata": {},
   "outputs": [],
   "source": [
    "# Open up datasets from every day, extracting our VARIABLES of choice as we open individual datasets. This is so that we have a smaller dataset held \n",
    "# in computer memory.\n",
    "all_datasets = [xr.open_dataset(file)[VARIABLES] for file in files[10:40]]"
   ]
  },
  {
   "cell_type": "code",
   "execution_count": 8,
   "metadata": {},
   "outputs": [],
   "source": [
    "sos_dataset = xr.concat(all_datasets, dim='time')"
   ]
  },
  {
   "cell_type": "code",
   "execution_count": 9,
   "metadata": {},
   "outputs": [],
   "source": [
    "sos_dataset_60min = sos_dataset.resample(time=\"60Min\").mean()"
   ]
  },
  {
   "cell_type": "code",
   "execution_count": 10,
   "metadata": {},
   "outputs": [],
   "source": [
    "sos_df = sos_dataset_60min.to_dataframe().reset_index()"
   ]
  },
  {
   "attachments": {},
   "cell_type": "markdown",
   "metadata": {},
   "source": [
    "### Snotel data"
   ]
  },
  {
   "attachments": {},
   "cell_type": "markdown",
   "metadata": {},
   "source": [
    "#### Download"
   ]
  },
  {
   "cell_type": "code",
   "execution_count": 11,
   "metadata": {},
   "outputs": [],
   "source": [
    "start_date = dt.datetime(2022,12,1)\n",
    "end_date = dt.datetime(2023,3,12)\n",
    "snotel_point = SnotelPointData(\"380:CO:SNTL\", \"Butte\")\n",
    "butte_df = snotel_point.get_daily_data(\n",
    "    start_date, end_date,\n",
    "    [snotel_point.ALLOWED_VARIABLES.SWE]\n",
    ")\n",
    "butte_df = butte_df.assign(site_name = 'Butte')\n",
    "\n",
    "snotel_point = SnotelPointData(\"737:CO:SNTL\", \"Schofield Pass\")\n",
    "schofield_df = snotel_point.get_daily_data(\n",
    "    start_date, end_date,\n",
    "    [snotel_point.ALLOWED_VARIABLES.SWE]\n",
    ")\n",
    "schofield_df = schofield_df.assign(site_name = 'Schofield Pass')"
   ]
  },
  {
   "cell_type": "code",
   "execution_count": 12,
   "metadata": {},
   "outputs": [],
   "source": [
    "snotel_df = pd.concat([butte_df, schofield_df])\n",
    "snotel_df['SWE'] = snotel_df['SWE']*25.4\n",
    "snotel_df['SWE_units'] = 'mm'\n",
    "snotel_df = snotel_df.reset_index()"
   ]
  },
  {
   "attachments": {},
   "cell_type": "markdown",
   "metadata": {},
   "source": [
    "### Plot"
   ]
  },
  {
   "cell_type": "code",
   "execution_count": 13,
   "metadata": {},
   "outputs": [],
   "source": [
    "precip_chart = alt.Chart(precip_df).mark_line().encode(\n",
    "    alt.X(\"date:T\"),\n",
    "    alt.Y(\"acc_prec:Q\", title='Accumulated Precipitation (mm)')\n",
    ").properties(\n",
    "    title = precip_xr['acc_prec'].attrs['long_name'],\n",
    "    width = 800,\n",
    "    height = 175\n",
    ")\n",
    "\n",
    "sos_pillow_chart = alt.Chart(sos_df.melt(['time'])).transform_filter(\n",
    "    alt.FieldOneOfPredicate('variable', ['SWE_p1_c', 'SWE_p2_c', 'SWE_p3_c', 'SWE_p4_c'])\n",
    ").mark_line().encode(\n",
    "    alt.X(\"time:T\"),\n",
    "    alt.Y(\"value:Q\", title='SWE (mm)'),\n",
    "    alt.Color(\"variable:N\")\n",
    ").properties(\n",
    "    width = 800,\n",
    "    height = 175\n",
    ")\n",
    "\n",
    "snotel_pillow_chart = alt.Chart(snotel_df).mark_line().encode(\n",
    "    alt.X(\"datetime:T\"),\n",
    "    alt.Y(\"SWE:Q\", title='SWE (mm)'),\n",
    "    alt.Color(\"site_name\")\n",
    ").properties(\n",
    "    width = 800,\n",
    "    height = 175\n",
    ")"
   ]
  },
  {
   "cell_type": "code",
   "execution_count": 14,
   "metadata": {},
   "outputs": [
    {
     "data": {
      "image/png": "[encoded data removed]",
      "text/plain": [
       "alt.VConcatChart(...)"
      ]
     },
     "execution_count": 14,
     "metadata": {},
     "output_type": "execute_result"
    }
   ],
   "source": [
    "\n",
    "(precip_chart & (sos_pillow_chart + snotel_pillow_chart).properties(title='SWE measured by Snow Pillows at Snotel Sites (Butte and Schofield Pass) and Kettle Ponds (SWE_pX_C)')).resolve_scale(x='shared', y='shared', \n",
    "color='independent')"
   ]
  },
  {
   "attachments": {},
   "cell_type": "markdown",
   "metadata": {},
   "source": [
    "## B. \n",
    "\n",
    "Write out the snow mass balance equation for a control volume. Given the data you have plotted, what aspects of the mass balance equation do you have the most certainty about? The least certainty?\n"
   ]
  },
  {
   "attachments": {},
   "cell_type": "markdown",
   "metadata": {},
   "source": [
    "$ ∆SWE = Precipitation - Melt - Sublimation + ∇⋅(Blowing Snow)$\n",
    "\n",
    "We have the most certainty about the $ ∆SWE $ component, which is measured by the continuous snow pillow data, and about the $ Precipitation $ component, which is also measured. We cannot say much about melt, sublimation, or blowing snow, besides that blowing snow probably occurs throughout the season and that melt is unlikely to occur when temps are below freezing (most of the winter)."
   ]
  },
  {
   "attachments": {},
   "cell_type": "markdown",
   "metadata": {},
   "source": [
    "## C. \n",
    "\n",
    "What factors of the mass balance are the most similar spatially? Which differ the most across different locations? Is there more variability between sites further away? Or are the four snow pillows at Kettle Ponds as different as the two sites just outside of the watershed?"
   ]
  },
  {
   "attachments": {},
   "cell_type": "markdown",
   "metadata": {},
   "source": [
    "$∆ SWE$ appears to be pretty consistent across the sites, although sometimes the Schofield Pass site seems to accumulate more snow during snow storms than other sites. Precipitation might be somewhat similar across sites, although we would expect, generally, higher elevation sites to get more snow (i.e. Schofield pass more than Kettle ponds which in turn gets more than Butte). There is generally more variability between sites further away from eachother. For example, all the Kettle Ponds snow pillows show pretty consistent signals, except for the SWE_p1_c pillow whichh appears to have gained snow that the other pillows did not (they may have even lost snow) around December 20th. After this event, however, the Kettle Ponds snow pillows show similar increases in SWE throughout the season. The Butte snow pillow shows remarkably similar SWE increases to the Kettle Ponds site, a notable difference being at the beginning of the snow season, most of December, when there was more snow to begin with at the Butte site. \n",
    "\n",
    "Overall, Butte and Kettle Ponds are the most similar of the 3 sites. Schofield pass shows quite a different SWE signal than both Kettle Ponds and Butte."
   ]
  },
  {
   "attachments": {},
   "cell_type": "markdown",
   "metadata": {},
   "source": [
    "## D. \n",
    "\n",
    "NCAR's EOL team is committed to removing the towers at Kettle Ponds on 1 June 2023. To do that, they need to drive down a road (shown in the map above) that is currently snowed in. The road will open when the snow melts and disappears. This typically occurs in mid to late May. Using the long term records at the SNOTEL sites, and any other information you may have, to make a prediction about whether the snow will be gone (and hence the road clear) by 1 June 2023. (Note that we will assess everyone's accuracy at the end of the quarter!)"
   ]
  },
  {
   "attachments": {},
   "cell_type": "markdown",
   "metadata": {},
   "source": [
    "To estimate this, we will use all historical SWE data form the Butte snotel site, which is pretty close to the Gothic Road. We use the following method:\n",
    "\n",
    "* Identify peak SWE for all years\n",
    "* Find all historical years with peak SWE values within 10% of this years peak SWE\n",
    "* From all these years, find average day that SWE reaches 0\n",
    "\n",
    "Note that we will use \"water years\", where the latter year of the winter is used (i.e. Winter 2022-2023 is called Water Year 2023)"
   ]
  },
  {
   "cell_type": "code",
   "execution_count": 15,
   "metadata": {},
   "outputs": [],
   "source": [
    "snotel_point = SnotelPointData(\"380:CO:SNTL\", \"Butte\")\n",
    "butte_df = snotel_point.get_daily_data(\n",
    "    dt.datetime(1900,12,1), dt.datetime.today(),\n",
    "    [snotel_point.ALLOWED_VARIABLES.SWE]\n",
    ")\n",
    "butte_df = butte_df.assign(site_name = 'Butte')\n",
    "butte_df = butte_df.reset_index().set_index('datetime')\n",
    "butte_df = butte_df.tz_convert(None).reset_index()"
   ]
  },
  {
   "cell_type": "code",
   "execution_count": 16,
   "metadata": {},
   "outputs": [
    {
     "data": {
      "image/png": "[encoded data removed]",
      "text/plain": [
       "alt.Chart(...)"
      ]
     },
     "execution_count": 16,
     "metadata": {},
     "output_type": "execute_result"
    }
   ],
   "source": [
    "alt.Chart(\n",
    "    butte_df[butte_df.datetime > dt.datetime(2022,10,1)]\n",
    ").mark_line().encode(\n",
    "    alt.X(\"datetime:T\"),\n",
    "    alt.Y(\"SWE:Q\")\n",
    ")"
   ]
  },
  {
   "attachments": {},
   "cell_type": "markdown",
   "metadata": {},
   "source": [
    "### Identify peak SWE (and date of peak SWE) for all years"
   ]
  },
  {
   "cell_type": "code",
   "execution_count": null,
   "metadata": {},
   "outputs": [],
   "source": [
    "butte_df['water year'] = butte_df['datetime'].apply(lambda dt: dt.year if dt.month < 10 else dt.year+1)"
   ]
  },
  {
   "cell_type": "code",
   "execution_count": null,
   "metadata": {},
   "outputs": [],
   "source": [
    "max_swe_df = pd.DataFrame(butte_df.set_index('datetime').groupby(\"water year\")['SWE'].idxmax())"
   ]
  },
  {
   "cell_type": "code",
   "execution_count": null,
   "metadata": {},
   "outputs": [],
   "source": [
    "max_swe_df['max_SWE_date'] = max_swe_df['SWE']\n",
    "max_swe_df['SWE'] = max_swe_df['max_SWE_date'].apply(lambda s: butte_df.set_index('datetime').loc[s].SWE)"
   ]
  },
  {
   "cell_type": "code",
   "execution_count": null,
   "metadata": {},
   "outputs": [],
   "source": [
    "this_year_peak_swe = max_swe_df.loc[2023]['SWE']\n",
    "this_year_peak_swe"
   ]
  },
  {
   "attachments": {},
   "cell_type": "markdown",
   "metadata": {},
   "source": [
    "### Find all historical years with peak SWE values within 10% of this years peak SWE\n"
   ]
  },
  {
   "cell_type": "code",
   "execution_count": null,
   "metadata": {},
   "outputs": [],
   "source": [
    "similar_years_df = max_swe_df[\n",
    "    (max_swe_df['SWE'] < 1.1*this_year_peak_swe)\n",
    "    &\n",
    "    (max_swe_df['SWE'] > 0.9*this_year_peak_swe)\n",
    "]"
   ]
  },
  {
   "cell_type": "code",
   "execution_count": null,
   "metadata": {},
   "outputs": [],
   "source": [
    "similar_years_df"
   ]
  },
  {
   "attachments": {},
   "cell_type": "markdown",
   "metadata": {},
   "source": [
    "## For similar years, find average day that SWE reaches 0"
   ]
  },
  {
   "cell_type": "code",
   "execution_count": null,
   "metadata": {},
   "outputs": [],
   "source": [
    "melt_out_date_df = butte_df[butte_df['water year'].isin(similar_years_df.index)]"
   ]
  },
  {
   "cell_type": "code",
   "execution_count": null,
   "metadata": {},
   "outputs": [],
   "source": [
    "melt_out_date_df = melt_out_date_df[melt_out_date_df['SWE'] == 0]\n",
    "melt_out_date_df = melt_out_date_df[melt_out_date_df['datetime'].dt.month < 10]"
   ]
  },
  {
   "cell_type": "code",
   "execution_count": null,
   "metadata": {},
   "outputs": [],
   "source": [
    "melt_out_dates = melt_out_date_df.groupby(\"water year\")['datetime'].min()\n",
    "melt_out_dates"
   ]
  },
  {
   "cell_type": "code",
   "execution_count": null,
   "metadata": {},
   "outputs": [],
   "source": [
    "dt.datetime(2023,1,1) + dt.timedelta(days = melt_out_dates.dt.day_of_year.mean())"
   ]
  },
  {
   "attachments": {},
   "cell_type": "markdown",
   "metadata": {},
   "source": [
    "My model estimates that melt out will occur on May 30th."
   ]
  },
  {
   "attachments": {},
   "cell_type": "markdown",
   "metadata": {},
   "source": [
    "# Problem 2: Course Project Selection\n",
    "\n",
    "Write a brief paragraph (3-9 sentences) describing your term project. Include the name of your partner (or specify you will be doing the project alone), the concept you will communicate or teach, and the tools you will use. If you have questions about the project, now is the time to talk to the instructor."
   ]
  },
  {
   "attachments": {},
   "cell_type": "markdown",
   "metadata": {},
   "source": [
    "I have three ideas:\n",
    "\n",
    "**Proposal 1** (more work, less overlap with research, benefits general scientific learning):\n",
    "Create a lecture on the statistical mechanics behind phase changes, focusing on the details of sublimation phase changes. I think that we generally use simplified models for thermodynamics calculations (state equations). Perhaps some conditions in snowy environments complicate these simplified models. Looking into the thermodynamics/physics could maybe help us understand this stuff better. I'm not sure but it's possible we could use SoS data to the study the thermodynamics (e.g. the thermistor harp measurements we took). Applying what I learn to SoS data might be a \"reach\" time wise for the scope of this class project.\n",
    "\n",
    "**Proposal 2** (less work, more overlap with research, benefits my research goals):\n",
    "Repurpose some of my analyses thus far to teach a lesson about snow sublimation in the Rocky Mountains. Perform a literature review, teach what we know (state of the science), then show how the SoS project is contributing and expanding our knowledge on this topic. Maybe I could borrow from your in-progress literature review article if that's appropriate for this assignment?\n",
    "\n",
    "\n",
    "**Proposal 3** (less work, more overlap with research, benefits general learning, maybe benefits others):\n",
    "Teach a lecture about my favorite python plotting library Altair. We have lots of python users in our department, but very few use this library. I think its an awesome tool. I've been intending to present to the Mtn Hydro group about it for fun so doing this as a class project kills two birds with one stone."
   ]
  }
 ],
 "metadata": {
  "kernelspec": {
   "display_name": "snow-hydrology",
   "language": "python",
   "name": "python3"
  },
  "language_info": {
   "codemirror_mode": {
    "name": "ipython",
    "version": 3
   },
   "file_extension": ".py",
   "mimetype": "text/x-python",
   "name": "python",
   "nbconvert_exporter": "python",
   "pygments_lexer": "ipython3",
   "version": "3.11.0"
  },
  "orig_nbformat": 4
 },
 "nbformat": 4,
 "nbformat_minor": 2
}
